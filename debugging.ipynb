{
 "cells": [
  {
   "cell_type": "code",
   "execution_count": 1,
   "metadata": {},
   "outputs": [],
   "source": [
    "from linkedin import Head_Hunter_9000"
   ]
  },
  {
   "cell_type": "code",
   "execution_count": 2,
   "metadata": {},
   "outputs": [],
   "source": [
    "import time\n",
    "import random"
   ]
  },
  {
   "cell_type": "code",
   "execution_count": 3,
   "metadata": {},
   "outputs": [],
   "source": [
    "hh_9000 = Head_Hunter_9000()\n",
    "hh_9000.login()"
   ]
  },
  {
   "cell_type": "code",
   "execution_count": 4,
   "metadata": {},
   "outputs": [],
   "source": [
    "time.sleep(random.uniform(1,2))\n",
    "hh_9000.scroll_through_sidebar()\n",
    "job_listings = hh_9000.driver.find_elements_by_xpath(\"//div[contains(@class, 'job-card-container') and contains(@class, 'job-card-list')]\")"
   ]
  },
  {
   "cell_type": "code",
   "execution_count": 14,
   "metadata": {},
   "outputs": [],
   "source": [
    "from selenium.common.exceptions import NoSuchElementException"
   ]
  },
  {
   "cell_type": "code",
   "execution_count": 17,
   "metadata": {},
   "outputs": [],
   "source": [
    "def loop_through_questions(hh_9000, job_id):\n",
    "    job_info_container = hh_9000.driver.find_element_by_xpath(\"//div[@class='job-view-layout jobs-details']\")\n",
    "    job_short = job_info_container.find_element_by_xpath(\".//div[@class='jobs-unified-top-card__content--two-pane']\")\n",
    "    job_short.find_element_by_xpath(\".//button[contains(@class, 'jobs-apply-button')]\").click() # click easy apply\n",
    "    # Loop through questions  //button[@data-easy-apply-next-button]\n",
    "    more_questions = True\n",
    "    while(more_questions):\n",
    "        dd_and_fr_question_forms = hh_9000.driver.find_elements_by_xpath(\"//div[@class='jobs-easy-apply-content']//div[@class='jobs-easy-apply-form-section__grouping']/div[contains(@class, 'jobs-easy-apply-form-element')]\")\n",
    "        rb_question_forms = hh_9000.driver.find_elements_by_xpath(\"//div[@class='jobs-easy-apply-content']//div[@class='jobs-easy-apply-form-section__grouping']/fieldset\")\n",
    "\n",
    "        for q_form in dd_and_fr_question_forms: # dropdown: fb-dropdown    ---   free-response: fb-single-line-text\n",
    "            question_text = q_form.find_element_by_xpath(\"./label/span[not(@class='visually-hidden')]\").text\n",
    "            question_type = q_form.find_element_by_xpath(\"./div\").get_attribute(\"class\")\n",
    "\n",
    "            # //div[@class='jobs-easy-apply-content']//div[@class='jobs-easy-apply-form-section__grouping']/div[contains(@class, 'jobs-easy-apply-form-element')]/div/select/option\n",
    "            if question_type == \"fb-dropdown\":\n",
    "                \n",
    "                options = q_form.find_elements_by_xpath(\"./div/select/option\")\n",
    "                option_vals = [option.get_attribute(\"value\") for option in options]\n",
    "\n",
    "                option_sets = hh_9000.litehelper.get_from_table(\"Questions q INNER JOIN DropDownQuestions d on q.QuestionID = d.DropDownQuestionID\", ['OptionSetID'], {\"Question\": question_text})\n",
    "                if option_sets: # question has already been added\n",
    "                    for option_set in option_sets:\n",
    "                        db_options = hh_9000.litehelper.get_from_table(\"Options\", ['OptionText', 'Value'], {\"OptionSetID\": option_set})\n",
    "                        db_option_texts = set()\n",
    "                        if all([option_text in db_option_texts for option_text in option_texts]) and all([option_val in db_option_vals for option_val in option_vals]):\n",
    "                            q_id = hh_9000.litehelper.get_from_table(\"DropDownQuestions\", ['DropDownQuestionID'], {\"OptionSet\": option_set})\n",
    "                            hh_9000.litehelper.insert_job_question(**{'JobID': job_id, 'QuestionID': q_id})\n",
    "                            break\n",
    "                    \n",
    "                        \n",
    "                    \n",
    "\n",
    "                # if question is in db\n",
    "                    # store all option_sets in a list of sets\n",
    "                    # then for each set check if all options in the UI are in that set\n",
    "                    # if ALL options are in that set, then this is the correct set and we just need to store reference to the OptionSetID\n",
    "                    # else we need to add the same question to the db - this time with the new option set\n",
    "                # else we need to add it to the db along with all the options\n",
    "                \n",
    "                \n",
    "\n",
    "            print(question_text, question_type)\n",
    "\n",
    "        for q_form in rb_question_forms:\n",
    "            question_text = q_form.find_element_by_xpath(\"./legend/span[not(@class='visually-hidden')]\").text\n",
    "            options = q_form.find_element_by_xpath(\"./div[@class='fb-radio-buttons']\")\n",
    "            print(question_text)\n",
    "\n",
    "        next_q_button = find_element_by_xpath_safe(hh_9000.driver, \"//button[@data-easy-apply-next-button]\")\n",
    "        if next_q_button:\n",
    "            next_q_button.click()\n",
    "        else:\n",
    "            more_questions = False\n",
    "\n",
    "def find_element_by_xpath_safe(element, xpath_from_element):\n",
    "    try:\n",
    "        return element.find_element_by_xpath(xpath_from_element)\n",
    "    except NoSuchElementException:\n",
    "        return None"
   ]
  },
  {
   "cell_type": "code",
   "execution_count": 18,
   "metadata": {},
   "outputs": [
    {
     "name": "stdout",
     "output_type": "stream",
     "text": [
      "Email address fb-dropdown\n",
      "Phone country code fb-dropdown\n",
      "Mobile phone number fb-single-line-text\n",
      "How many years of work experience do you have using Tableau? fb-single-line-text\n",
      "How many years of work experience do you have using Python (Programming Language)? fb-single-line-text\n",
      "Have you completed the following level of education: Bachelor's Degree?\n",
      "Are you legally authorized to work in the United States?\n"
     ]
    }
   ],
   "source": [
    "for i in range(len(job_listings)):\n",
    "    just_added = False\n",
    "    time.sleep(random.uniform(1,2))\n",
    "    link = job_listings[i].find_element_by_xpath(\".//a[contains(@class, 'job-card-container__link') and contains(@class, 'job-card-list__title')]\")\n",
    "    link.click()\n",
    "    ext_job_id = job_listings[i].get_attribute(\"data-job-id\")\n",
    "    if not hh_9000.litehelper.is_in_table('Jobs', **{'JobBoardID':'linkedin', 'ExtJobID': ext_job_id}):\n",
    "        job_info = hh_9000.build_job_info(ext_job_id)\n",
    "        hh_9000.litehelper.insert_job(**job_info)\n",
    "        just_added = True\n",
    "\n",
    "    if just_added or hh_9000.litehelper.is_in_table('Jobs', **{'JobBoardID':'linkedin', 'ExtJobID': ext_job_id, 'AppSubmitted': 0}):\n",
    "        loop_through_questions(hh_9000)\n",
    "        break\n",
    "\n",
    "            # If all Questions for Job already have Answers\n",
    "\n",
    "            # Else if there are not yet any Questions"
   ]
  },
  {
   "cell_type": "markdown",
   "metadata": {},
   "source": [
    "### Old"
   ]
  },
  {
   "cell_type": "code",
   "execution_count": 5,
   "metadata": {},
   "outputs": [],
   "source": [
    "job_listings = hh_9000.driver.find_elements_by_xpath(\"//div[contains(@class, 'job-card-container') and contains(@class, 'job-card-list')]\")"
   ]
  },
  {
   "cell_type": "code",
   "execution_count": 8,
   "metadata": {},
   "outputs": [],
   "source": [
    "job_info_container = hh_9000.driver.find_element_by_xpath(\"//div[@class='job-view-layout jobs-details']\")\n",
    "job_short = job_info_container.find_element_by_xpath(\".//div[@class='jobs-unified-top-card__content--two-pane']\")\n",
    "easy_apply = job_short.find_element_by_xpath(\".//button[contains(@class, 'jobs-apply-button')]\").click()"
   ]
  },
  {
   "cell_type": "code",
   "execution_count": 25,
   "metadata": {},
   "outputs": [],
   "source": [
    "dd_and_fr_question_forms = hh_9000.driver.find_elements_by_xpath(\"//div[@class='jobs-easy-apply-content']//div[@class='jobs-easy-apply-form-section__grouping']/div[contains(@class, 'jobs-easy-apply-form-element')]\")\n",
    "rb_question_forms = hh_9000.driver.find_elements_by_xpath(\"//div[@class='jobs-easy-apply-content']//div[@class='jobs-easy-apply-form-section__grouping']/fieldset\")"
   ]
  },
  {
   "cell_type": "code",
   "execution_count": 26,
   "metadata": {},
   "outputs": [],
   "source": [
    "for q_form in dd_and_fr_question_forms:\n",
    "    question_text = q_form.find_element_by_xpath(\"./label/span[not(@class='visually-hidden')]\").text\n",
    "    question_type = q_form.find_element_by_xpath(\"./div\").get_attribute(\"class\")\n",
    "    print(question_text, question_type)"
   ]
  },
  {
   "cell_type": "code",
   "execution_count": 27,
   "metadata": {},
   "outputs": [
    {
     "name": "stdout",
     "output_type": "stream",
     "text": [
      "Are you comfortable commuting to this job's location?\n"
     ]
    }
   ],
   "source": [
    "for q_form in rb_question_forms:\n",
    "    question_text = q_form.find_element_by_xpath(\"./legend/span[not(@class='visually-hidden')]\")\n",
    "    options = q_form.find_element_by_xpath(\"./div[@class='fb-radio-buttons']\")\n",
    "    print(question_text)"
   ]
  },
  {
   "cell_type": "code",
   "execution_count": null,
   "metadata": {},
   "outputs": [],
   "source": []
  }
 ],
 "metadata": {
  "interpreter": {
   "hash": "8e78e047b32366f522c98bda6a2dbe72ffea23751f9e8ea03f39107f7c32989a"
  },
  "kernelspec": {
   "display_name": "Python 3.7.13 ('Head_Hunter_9000')",
   "language": "python",
   "name": "python3"
  },
  "language_info": {
   "codemirror_mode": {
    "name": "ipython",
    "version": 3
   },
   "file_extension": ".py",
   "mimetype": "text/x-python",
   "name": "python",
   "nbconvert_exporter": "python",
   "pygments_lexer": "ipython3",
   "version": "3.7.13"
  },
  "orig_nbformat": 4
 },
 "nbformat": 4,
 "nbformat_minor": 2
}
