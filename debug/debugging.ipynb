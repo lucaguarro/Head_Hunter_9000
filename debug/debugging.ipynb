{
 "cells": [
  {
   "cell_type": "code",
   "execution_count": 2,
   "metadata": {},
   "outputs": [],
   "source": [
    "import sys, os\n",
    "\n",
    "sys.path.insert(0, \"../src\")\n",
    "from scraper.linkedin import Head_Hunter_9000"
   ]
  },
  {
   "cell_type": "code",
   "execution_count": 2,
   "metadata": {},
   "outputs": [],
   "source": [
    "from selenium import webdriver\n",
    "from selenium.webdriver.common.by import By\n",
    "from webdriver_manager.chrome import ChromeDriverManager\n",
    "from selenium.webdriver.common.keys import Keys\n",
    "from selenium.webdriver import ChromeOptions\n",
    "import html2text\n",
    "from selenium.common.exceptions import NoSuchElementException\n",
    "import urllib.parse\n",
    "import configparser\n",
    "import random\n",
    "import time\n",
    "\n",
    "import re\n",
    "from data.architecture import JobBoard, Job, FreeResponseQuestion, RadioButtonsQuestion, DropDownQuestion, Option\n",
    "\n"
   ]
  },
  {
   "cell_type": "code",
   "execution_count": 3,
   "metadata": {},
   "outputs": [
    {
     "name": "stdout",
     "output_type": "stream",
     "text": [
      "https://www.linkedin.com/jobs/search/?f_AL=true&f_E=1%2C2%2C3&f_JT=F%2CC%2CT&f_WT=1%2C2%2C3&keywords=Data%20Analyst&location=United%20States\n"
     ]
    }
   ],
   "source": [
    "hh_9000 = Head_Hunter_9000('/home/luca/Documents/Projects/Head_Hunter_9000/config.ini')\n",
    "hh_9000.login()"
   ]
  },
  {
   "cell_type": "code",
   "execution_count": 4,
   "metadata": {},
   "outputs": [],
   "source": [
    "ext_job_id = hh_9000.get_job_id(hh_9000.driver.current_url)\n",
    "job_info_container = hh_9000.driver.find_element(By.XPATH, \"//div[@class='job-view-layout jobs-details']\")\n",
    "job_info = hh_9000.build_job_info(job_info_container, ext_job_id)"
   ]
  },
  {
   "cell_type": "code",
   "execution_count": 5,
   "metadata": {},
   "outputs": [
    {
     "data": {
      "text/plain": [
       "{'companyname': 'Greenline Pet',\n",
       " 'location': 'Nashville, TN',\n",
       " 'workplacetype': 'On-site',\n",
       " 'postedtimeago': '2 days ago',\n",
       " 'numapplicants': '316 applicants',\n",
       " 'salary': '$70,000/yr - $80,000/yr + Bonus, Profit sharing · Full-time',\n",
       " 'numemployees': '11-50 employees',\n",
       " 'jobtitle': 'Data Analyst',\n",
       " 'description': 'We understand that no candidate is perfectly qualified for any job. A clear\\ndemonstration of accountability, a willingness to collaborate, and passion say\\nmore than the words on a resume. We expect you to learn and grow in this role.\\nYou are encouraged to apply even if your experience is not a “perfect” match\\nfor what we’re looking for.\\n\\n **Position Description Summary**\\n\\nWe are seeking a **Data Analyst** , who will work in Greenline’s Franklin,\\nTennessee office. This role will sit in the Data Operations team and report to\\nthe Manager of Data and Analytics Engineering. In this position you will\\nconduct analyses, report your findings to internal stakeholders, and help\\nGreenline design analytics products tailored to improve Greenline client and\\nclinic experiences.\\n\\nThe position requires extensive experience in data, analytics, and\\npresentation. The ideal candidate will be an expert in designing SQL queries\\nto build reporting that leverages data to convey a call to action for the\\nbusiness. Candidates should be comfortable consulting on all matters related\\nto data as well as partnering with account executives and DevOps to enhance\\nand develop Greenline’s data capabilities.\\n\\n**Sound interesting? Here are some specifics:**\\n\\no   Develop working knowledge of Greenline’s clients’ veterinary products and\\ncommon problems in the industry\\n\\no   Creation, quality assurance, and maintenance of reports used by\\nGreenline’s clients\\n\\no   Utilize cloud native databases (Azure SQL Server, Snowflake) in\\nconjunction with Looker to build compelling visualization to drive business\\naction\\n\\no   Troubleshoot issues and inconsistencies in reporting\\n\\no   Implement best practices in Data Operations\\n\\no   Monitor and build ETL processes in Airflow to enable analytics engineering\\n\\n  \\n\\n **Education, Experience & Skills:**\\n\\no   Bachelor’s degree (STEM, Quantitative, or Veterinary field preferred)\\n\\no   2+ years of intermediate SQL experience\\n\\no   2+ years in leveraging data to present solutions to common business\\nquestions\\n\\no   2+ years designing visualizations in Looker, Power BI, Tableau, or similar\\n\\no   Advanced experience with Excel\\n\\no   Fundamental understanding of statistics and associated assumptions\\n\\no   Self-directed and proactive with the ability to bridge the gap between\\nbusiness needs and technical solutions\\n\\no   Knowledge of the Veterinary industry is a plus\\n\\no   Experience with Cloud systems is a plus\\n\\no   Experience with Regular Expressions is a plus\\n\\no   Programming Experience a plus (Python, R, C#, Java)\\n\\n  \\n\\n **Greenline Benefits:**\\n\\no   Competitive salary and benefits package\\n\\no   Bonuses based on company and Individual performance\\n\\no   Medical, Dental, and Vision healthcare benefits\\n\\no   Retirement plan with an Employer sponsored contribution and additional\\nprofit sharing\\n\\no   Wellness & Health stipend\\n\\no   Subscription to Pluralsight, an online learning platform\\n\\n  \\n\\n **About the Company:**\\n\\nGreenline is the industry leader and preferred digital platform for digital\\ncoupons and rebate redemption in the Veterinary Industry. Founded in 2013,\\nGreenline is now present in over 10,000 veterinary clinics across North\\nAmerica and continues to grow rapidly. Greenline’s software saves veterinary\\nclinics time, improves the pet owner experience, drives compliance, increases\\ndoses and revenue, and is an environmentally friendly alternative to paper-\\nbased submissions.\\n\\n',\n",
       " 'jobboardid': 'linkedin',\n",
       " 'appsubmitted': False,\n",
       " 'extjobid': '3713421291'}"
      ]
     },
     "execution_count": 5,
     "metadata": {},
     "output_type": "execute_result"
    }
   ],
   "source": [
    "job_info"
   ]
  },
  {
   "cell_type": "code",
   "execution_count": 6,
   "metadata": {},
   "outputs": [],
   "source": [
    "easy_apply_button = job_info_container.find_element(By.XPATH, \"//button[contains(@class, 'jobs-apply-button')]\")\n",
    "easy_apply_button.click()"
   ]
  },
  {
   "cell_type": "code",
   "execution_count": null,
   "metadata": {},
   "outputs": [],
   "source": [
    "from selenium.webdriver.support.ui import Select\n",
    "\n",
    "def get_next_btn():\n",
    "    nxt_btn = hh_9000.driver.find_elements(By.XPATH, \"//span[text()='Next']/ancestor::button\")\n",
    "    if nxt_btn:\n",
    "        return nxt_btn[0]\n",
    "    \n",
    "    rvw_btn = hh_9000.driver.find_elements(By.XPATH, \"//span[text()='Review']/ancestor::button\")\n",
    "    if rvw_btn:\n",
    "        return rvw_btn[0]\n",
    "    \n",
    "    return None\n",
    "\n",
    "\n",
    "def fill_out_questions(freeresponse_question_containers, dropdown_question_containers, radiobutton_question_containers):\n",
    "    for fr_q in freeresponse_question_containers:\n",
    "        input_tag = fr_q.find_element(By.TAG_NAME, \"input\")\n",
    "        input_tag.clear()\n",
    "        input_tag.send_keys(\"1\")\n",
    "\n",
    "    for dd_q in dropdown_question_containers:\n",
    "        select_el = dd_q.find_element(By.TAG_NAME, \"select\")\n",
    "        select = Select(select_el)\n",
    "        select.select_by_index(1)\n",
    "\n",
    "    for rb_q in radiobutton_question_containers:\n",
    "        radio_buttons = rb_q.find_elements(By.XPATH, \".//label\")\n",
    "        if radio_buttons:\n",
    "            radio_buttons[0].click()\n",
    "\n",
    "\n",
    "fr_prompts = []\n",
    "dd_prompts_and_options = []\n",
    "rb_prompts_and_options = []\n",
    "\n",
    "next_btn = True\n",
    "while next_btn:\n",
    "    next_btn = get_next_btn()\n",
    "    question_form = hh_9000.driver.find_element(By.XPATH, \"//div[@class='pb4']\")\n",
    "\n",
    "    freeresponse_question_containers = question_form.find_elements(By.XPATH, \"./div[contains(@class, 'jobs-easy-apply-form-section__grouping')]//div[@data-test-single-line-text-form-component]\")\n",
    "    dropdown_question_containers = question_form.find_elements(By.XPATH, \"./div[contains(@class, 'jobs-easy-apply-form-section__grouping')]//div[@data-test-text-entity-list-form-component]\")\n",
    "    radiobutton_question_containers = question_form.find_elements(By.XPATH, \"./div[contains(@class, 'jobs-easy-apply-form-section__grouping')]//fieldset[@data-test-form-builder-radio-button-form-component]\")\n",
    "\n",
    "    fill_out_questions(freeresponse_question_containers, dropdown_question_containers, radiobutton_question_containers)\n",
    "\n",
    "    fr_prompts.extend(hh_9000.scrape_freeresponse_questions(freeresponse_question_containers))\n",
    "    dd_prompts_and_options.extend(hh_9000.scrape_dropdown_questions(dropdown_question_containers))\n",
    "    rb_prompts_and_options.extend(hh_9000.scrape_radiobutton_questions(radiobutton_question_containers))\n",
    "\n",
    "    next_btn.click()\n"
   ]
  },
  {
   "cell_type": "code",
   "execution_count": 16,
   "metadata": {},
   "outputs": [
    {
     "data": {
      "text/plain": [
       "[('Email address',\n",
       "  [{'text': 'Select an option', 'value': 'Select an option'},\n",
       "   {'text': 'luca.guarro@gmail.com', 'value': 'luca.guarro@gmail.com'}]),\n",
       " ('Phone country code',\n",
       "  [{'text': 'Select an option', 'value': 'Select an option'},\n",
       "   {'text': 'United States (+1)', 'value': 'United States (+1)'},\n",
       "   {'text': 'Afghanistan (+93)', 'value': 'Afghanistan (+93)'},\n",
       "   {'text': 'Aland Islands (+358)', 'value': 'Aland Islands (+358)'},\n",
       "   {'text': 'Albania (+355)', 'value': 'Albania (+355)'},\n",
       "   {'text': 'Algeria (+213)', 'value': 'Algeria (+213)'},\n",
       "   {'text': 'American Samoa (+1)', 'value': 'American Samoa (+1)'},\n",
       "   {'text': 'Andorra (+376)', 'value': 'Andorra (+376)'},\n",
       "   {'text': 'Angola (+244)', 'value': 'Angola (+244)'},\n",
       "   {'text': 'Anguilla (+1)', 'value': 'Anguilla (+1)'},\n",
       "   {'text': 'Antarctica (+0)', 'value': 'Antarctica (+0)'},\n",
       "   {'text': 'Antigua and Barbuda (+1)', 'value': 'Antigua and Barbuda (+1)'},\n",
       "   {'text': 'Argentina (+54)', 'value': 'Argentina (+54)'},\n",
       "   {'text': 'Armenia (+374)', 'value': 'Armenia (+374)'},\n",
       "   {'text': 'Aruba (+297)', 'value': 'Aruba (+297)'},\n",
       "   {'text': 'Australia (+61)', 'value': 'Australia (+61)'},\n",
       "   {'text': 'Austria (+43)', 'value': 'Austria (+43)'},\n",
       "   {'text': 'Azerbaijan (+994)', 'value': 'Azerbaijan (+994)'},\n",
       "   {'text': 'Bahamas (+1)', 'value': 'Bahamas (+1)'},\n",
       "   {'text': 'Bahrain (+973)', 'value': 'Bahrain (+973)'},\n",
       "   {'text': 'Bangladesh (+880)', 'value': 'Bangladesh (+880)'},\n",
       "   {'text': 'Barbados (+1)', 'value': 'Barbados (+1)'},\n",
       "   {'text': 'Belarus (+375)', 'value': 'Belarus (+375)'},\n",
       "   {'text': 'Belgium (+32)', 'value': 'Belgium (+32)'},\n",
       "   {'text': 'Belize (+501)', 'value': 'Belize (+501)'},\n",
       "   {'text': 'Benin (+229)', 'value': 'Benin (+229)'},\n",
       "   {'text': 'Bermuda (+1)', 'value': 'Bermuda (+1)'},\n",
       "   {'text': 'Bhutan (+975)', 'value': 'Bhutan (+975)'},\n",
       "   {'text': 'Bolivia (+591)', 'value': 'Bolivia (+591)'},\n",
       "   {'text': 'Bosnia and Herzegovina (+387)',\n",
       "    'value': 'Bosnia and Herzegovina (+387)'},\n",
       "   {'text': 'Botswana (+267)', 'value': 'Botswana (+267)'},\n",
       "   {'text': 'Brazil (+55)', 'value': 'Brazil (+55)'},\n",
       "   {'text': 'British Indian Ocean Territory (+246)',\n",
       "    'value': 'British Indian Ocean Territory (+246)'},\n",
       "   {'text': 'Brunei Darussalam (+673)', 'value': 'Brunei Darussalam (+673)'},\n",
       "   {'text': 'Bulgaria (+359)', 'value': 'Bulgaria (+359)'},\n",
       "   {'text': 'Burkina Faso (+226)', 'value': 'Burkina Faso (+226)'},\n",
       "   {'text': 'Burundi (+257)', 'value': 'Burundi (+257)'},\n",
       "   {'text': 'Cambodia (+855)', 'value': 'Cambodia (+855)'},\n",
       "   {'text': 'Cameroon (+237)', 'value': 'Cameroon (+237)'},\n",
       "   {'text': 'Canada (+1)', 'value': 'Canada (+1)'},\n",
       "   {'text': 'Cape Verde (+238)', 'value': 'Cape Verde (+238)'},\n",
       "   {'text': 'Caribbean Nations (+0)', 'value': 'Caribbean Nations (+0)'},\n",
       "   {'text': 'Cayman Islands (+1)', 'value': 'Cayman Islands (+1)'},\n",
       "   {'text': 'Central African Republic (+236)',\n",
       "    'value': 'Central African Republic (+236)'},\n",
       "   {'text': 'Chad (+235)', 'value': 'Chad (+235)'},\n",
       "   {'text': 'Chile (+56)', 'value': 'Chile (+56)'},\n",
       "   {'text': 'China (+86)', 'value': 'China (+86)'},\n",
       "   {'text': 'Christmas Island (+61)', 'value': 'Christmas Island (+61)'},\n",
       "   {'text': 'Cocos (Keeling) Islands (+61)',\n",
       "    'value': 'Cocos (Keeling) Islands (+61)'},\n",
       "   {'text': 'Colombia (+57)', 'value': 'Colombia (+57)'},\n",
       "   {'text': 'Comoros (+269)', 'value': 'Comoros (+269)'},\n",
       "   {'text': 'Congo (+242)', 'value': 'Congo (+242)'},\n",
       "   {'text': 'Cook Islands (+682)', 'value': 'Cook Islands (+682)'},\n",
       "   {'text': 'Costa Rica (+506)', 'value': 'Costa Rica (+506)'},\n",
       "   {'text': \"Cote D'Ivoire (Ivory Coast) (+225)\",\n",
       "    'value': \"Cote D'Ivoire (Ivory Coast) (+225)\"},\n",
       "   {'text': 'Croatia (+385)', 'value': 'Croatia (+385)'},\n",
       "   {'text': 'Cuba (+53)', 'value': 'Cuba (+53)'},\n",
       "   {'text': 'Cyprus (+357)', 'value': 'Cyprus (+357)'},\n",
       "   {'text': 'Czech Republic (+420)', 'value': 'Czech Republic (+420)'},\n",
       "   {'text': 'Democratic Republic of the Congo (+243)',\n",
       "    'value': 'Democratic Republic of the Congo (+243)'},\n",
       "   {'text': 'Denmark (+45)', 'value': 'Denmark (+45)'},\n",
       "   {'text': 'Djibouti (+253)', 'value': 'Djibouti (+253)'},\n",
       "   {'text': 'Dominica (+1)', 'value': 'Dominica (+1)'},\n",
       "   {'text': 'Dominican Republic (+1)', 'value': 'Dominican Republic (+1)'},\n",
       "   {'text': 'Ecuador (+593)', 'value': 'Ecuador (+593)'},\n",
       "   {'text': 'Egypt (+20)', 'value': 'Egypt (+20)'},\n",
       "   {'text': 'El Salvador (+503)', 'value': 'El Salvador (+503)'},\n",
       "   {'text': 'Equatorial Guinea (+240)', 'value': 'Equatorial Guinea (+240)'},\n",
       "   {'text': 'Eritrea (+291)', 'value': 'Eritrea (+291)'},\n",
       "   {'text': 'Estonia (+372)', 'value': 'Estonia (+372)'},\n",
       "   {'text': 'Ethiopia (+251)', 'value': 'Ethiopia (+251)'},\n",
       "   {'text': 'Falkland Islands (Malvinas) (+500)',\n",
       "    'value': 'Falkland Islands (Malvinas) (+500)'},\n",
       "   {'text': 'Faroe Islands (+298)', 'value': 'Faroe Islands (+298)'},\n",
       "   {'text': 'Federated States of Micronesia (+691)',\n",
       "    'value': 'Federated States of Micronesia (+691)'},\n",
       "   {'text': 'Fiji (+679)', 'value': 'Fiji (+679)'},\n",
       "   {'text': 'Finland (+358)', 'value': 'Finland (+358)'},\n",
       "   {'text': 'France (+33)', 'value': 'France (+33)'},\n",
       "   {'text': 'French Guiana (+594)', 'value': 'French Guiana (+594)'},\n",
       "   {'text': 'French Polynesia (+689)', 'value': 'French Polynesia (+689)'},\n",
       "   {'text': 'French Southern Territories (+0)',\n",
       "    'value': 'French Southern Territories (+0)'},\n",
       "   {'text': 'Gabon (+241)', 'value': 'Gabon (+241)'},\n",
       "   {'text': 'Gambia (+220)', 'value': 'Gambia (+220)'},\n",
       "   {'text': 'Georgia (+995)', 'value': 'Georgia (+995)'},\n",
       "   {'text': 'Germany (+49)', 'value': 'Germany (+49)'},\n",
       "   {'text': 'Ghana (+233)', 'value': 'Ghana (+233)'},\n",
       "   {'text': 'Gibraltar (+350)', 'value': 'Gibraltar (+350)'},\n",
       "   {'text': 'Greece (+30)', 'value': 'Greece (+30)'},\n",
       "   {'text': 'Greenland (+299)', 'value': 'Greenland (+299)'},\n",
       "   {'text': 'Grenada (+1)', 'value': 'Grenada (+1)'},\n",
       "   {'text': 'Guadeloupe (+590)', 'value': 'Guadeloupe (+590)'},\n",
       "   {'text': 'Guam (+1)', 'value': 'Guam (+1)'},\n",
       "   {'text': 'Guatemala (+502)', 'value': 'Guatemala (+502)'},\n",
       "   {'text': 'Guernsey (+44)', 'value': 'Guernsey (+44)'},\n",
       "   {'text': 'Guinea (+224)', 'value': 'Guinea (+224)'},\n",
       "   {'text': 'Guinea-Bissau (+245)', 'value': 'Guinea-Bissau (+245)'},\n",
       "   {'text': 'Guyana (+592)', 'value': 'Guyana (+592)'},\n",
       "   {'text': 'Haiti (+509)', 'value': 'Haiti (+509)'},\n",
       "   {'text': 'Honduras (+504)', 'value': 'Honduras (+504)'},\n",
       "   {'text': 'Hong Kong (+852)', 'value': 'Hong Kong (+852)'},\n",
       "   {'text': 'Hungary (+36)', 'value': 'Hungary (+36)'},\n",
       "   {'text': 'Iceland (+354)', 'value': 'Iceland (+354)'},\n",
       "   {'text': 'India (+91)', 'value': 'India (+91)'},\n",
       "   {'text': 'Indonesia (+62)', 'value': 'Indonesia (+62)'},\n",
       "   {'text': 'Iran (+98)', 'value': 'Iran (+98)'},\n",
       "   {'text': 'Iraq (+964)', 'value': 'Iraq (+964)'},\n",
       "   {'text': 'Ireland (+353)', 'value': 'Ireland (+353)'},\n",
       "   {'text': 'Isle of Man (+44)', 'value': 'Isle of Man (+44)'},\n",
       "   {'text': 'Israel (+972)', 'value': 'Israel (+972)'},\n",
       "   {'text': 'Italy (+39)', 'value': 'Italy (+39)'},\n",
       "   {'text': 'Jamaica (+1)', 'value': 'Jamaica (+1)'},\n",
       "   {'text': 'Japan (+81)', 'value': 'Japan (+81)'},\n",
       "   {'text': 'Jersey (+44)', 'value': 'Jersey (+44)'},\n",
       "   {'text': 'Jordan (+962)', 'value': 'Jordan (+962)'},\n",
       "   {'text': 'Kazakhstan (+7)', 'value': 'Kazakhstan (+7)'},\n",
       "   {'text': 'Kenya (+254)', 'value': 'Kenya (+254)'},\n",
       "   {'text': 'Kiribati (+686)', 'value': 'Kiribati (+686)'},\n",
       "   {'text': 'Korea (+82)', 'value': 'Korea (+82)'},\n",
       "   {'text': 'Korea (North) (+850)', 'value': 'Korea (North) (+850)'},\n",
       "   {'text': 'Kosovo (+383)', 'value': 'Kosovo (+383)'},\n",
       "   {'text': 'Kuwait (+965)', 'value': 'Kuwait (+965)'},\n",
       "   {'text': 'Kyrgyzstan (+996)', 'value': 'Kyrgyzstan (+996)'},\n",
       "   {'text': 'Laos (+856)', 'value': 'Laos (+856)'},\n",
       "   {'text': 'Latvia (+371)', 'value': 'Latvia (+371)'},\n",
       "   {'text': 'Lebanon (+961)', 'value': 'Lebanon (+961)'},\n",
       "   {'text': 'Lesotho (+266)', 'value': 'Lesotho (+266)'},\n",
       "   {'text': 'Liberia (+231)', 'value': 'Liberia (+231)'},\n",
       "   {'text': 'Libya (+218)', 'value': 'Libya (+218)'},\n",
       "   {'text': 'Liechtenstein (+423)', 'value': 'Liechtenstein (+423)'},\n",
       "   {'text': 'Lithuania (+370)', 'value': 'Lithuania (+370)'},\n",
       "   {'text': 'Luxembourg (+352)', 'value': 'Luxembourg (+352)'},\n",
       "   {'text': 'Macao (+853)', 'value': 'Macao (+853)'},\n",
       "   {'text': 'Macedonia (+389)', 'value': 'Macedonia (+389)'},\n",
       "   {'text': 'Madagascar (+261)', 'value': 'Madagascar (+261)'},\n",
       "   {'text': 'Malawi (+265)', 'value': 'Malawi (+265)'},\n",
       "   {'text': 'Malaysia (+60)', 'value': 'Malaysia (+60)'},\n",
       "   {'text': 'Maldives (+960)', 'value': 'Maldives (+960)'},\n",
       "   {'text': 'Mali (+223)', 'value': 'Mali (+223)'},\n",
       "   {'text': 'Malta (+356)', 'value': 'Malta (+356)'},\n",
       "   {'text': 'Marshall Islands (+692)', 'value': 'Marshall Islands (+692)'},\n",
       "   {'text': 'Martinique (+596)', 'value': 'Martinique (+596)'},\n",
       "   {'text': 'Mauritania (+222)', 'value': 'Mauritania (+222)'},\n",
       "   {'text': 'Mauritius (+230)', 'value': 'Mauritius (+230)'},\n",
       "   {'text': 'Mayotte (+262)', 'value': 'Mayotte (+262)'},\n",
       "   {'text': 'Mexico (+52)', 'value': 'Mexico (+52)'},\n",
       "   {'text': 'Moldova (+373)', 'value': 'Moldova (+373)'},\n",
       "   {'text': 'Monaco (+377)', 'value': 'Monaco (+377)'},\n",
       "   {'text': 'Mongolia (+976)', 'value': 'Mongolia (+976)'},\n",
       "   {'text': 'Montenegro (+382)', 'value': 'Montenegro (+382)'},\n",
       "   {'text': 'Montserrat (+1)', 'value': 'Montserrat (+1)'},\n",
       "   {'text': 'Morocco (+212)', 'value': 'Morocco (+212)'},\n",
       "   {'text': 'Mozambique (+258)', 'value': 'Mozambique (+258)'},\n",
       "   {'text': 'Myanmar (+95)', 'value': 'Myanmar (+95)'},\n",
       "   {'text': 'Namibia (+264)', 'value': 'Namibia (+264)'},\n",
       "   {'text': 'Nauru (+674)', 'value': 'Nauru (+674)'},\n",
       "   {'text': 'Nepal (+977)', 'value': 'Nepal (+977)'},\n",
       "   {'text': 'Netherlands (+31)', 'value': 'Netherlands (+31)'},\n",
       "   {'text': 'Netherlands Antilles (+0)', 'value': 'Netherlands Antilles (+0)'},\n",
       "   {'text': 'New Caledonia (+687)', 'value': 'New Caledonia (+687)'},\n",
       "   {'text': 'New Zealand (+64)', 'value': 'New Zealand (+64)'},\n",
       "   {'text': 'Nicaragua (+505)', 'value': 'Nicaragua (+505)'},\n",
       "   {'text': 'Niger (+227)', 'value': 'Niger (+227)'},\n",
       "   {'text': 'Nigeria (+234)', 'value': 'Nigeria (+234)'},\n",
       "   {'text': 'Niue (+683)', 'value': 'Niue (+683)'},\n",
       "   {'text': 'Norfolk Island (+672)', 'value': 'Norfolk Island (+672)'},\n",
       "   {'text': 'Northern Mariana Islands (+1)',\n",
       "    'value': 'Northern Mariana Islands (+1)'},\n",
       "   {'text': 'Norway (+47)', 'value': 'Norway (+47)'},\n",
       "   {'text': 'Oman (+968)', 'value': 'Oman (+968)'},\n",
       "   {'text': 'Pakistan (+92)', 'value': 'Pakistan (+92)'},\n",
       "   {'text': 'Palau (+680)', 'value': 'Palau (+680)'},\n",
       "   {'text': 'Palestinian Territory (+970)',\n",
       "    'value': 'Palestinian Territory (+970)'},\n",
       "   {'text': 'Panama (+507)', 'value': 'Panama (+507)'},\n",
       "   {'text': 'Papua New Guinea (+675)', 'value': 'Papua New Guinea (+675)'},\n",
       "   {'text': 'Paraguay (+595)', 'value': 'Paraguay (+595)'},\n",
       "   {'text': 'Peru (+51)', 'value': 'Peru (+51)'},\n",
       "   {'text': 'Philippines (+63)', 'value': 'Philippines (+63)'},\n",
       "   {'text': 'Pitcairn (+0)', 'value': 'Pitcairn (+0)'},\n",
       "   {'text': 'Poland (+48)', 'value': 'Poland (+48)'},\n",
       "   {'text': 'Portugal (+351)', 'value': 'Portugal (+351)'},\n",
       "   {'text': 'Puerto Rico (+1)', 'value': 'Puerto Rico (+1)'},\n",
       "   {'text': 'Qatar (+974)', 'value': 'Qatar (+974)'},\n",
       "   {'text': 'Reunion (+262)', 'value': 'Reunion (+262)'},\n",
       "   {'text': 'Romania (+40)', 'value': 'Romania (+40)'},\n",
       "   {'text': 'Russian Federation (+7)', 'value': 'Russian Federation (+7)'},\n",
       "   {'text': 'Rwanda (+250)', 'value': 'Rwanda (+250)'},\n",
       "   {'text': 'Saint Helena (+290)', 'value': 'Saint Helena (+290)'},\n",
       "   {'text': 'Saint Kitts and Nevis (+1)',\n",
       "    'value': 'Saint Kitts and Nevis (+1)'},\n",
       "   {'text': 'Saint Lucia (+1)', 'value': 'Saint Lucia (+1)'},\n",
       "   {'text': 'Saint Pierre and Miquelon (+508)',\n",
       "    'value': 'Saint Pierre and Miquelon (+508)'},\n",
       "   {'text': 'Saint Vincent and the Grenadines (+1)',\n",
       "    'value': 'Saint Vincent and the Grenadines (+1)'},\n",
       "   {'text': 'Samoa (+685)', 'value': 'Samoa (+685)'},\n",
       "   {'text': 'San Marino (+378)', 'value': 'San Marino (+378)'},\n",
       "   {'text': 'Sao Tome and Principe (+239)',\n",
       "    'value': 'Sao Tome and Principe (+239)'},\n",
       "   {'text': 'Saudi Arabia (+966)', 'value': 'Saudi Arabia (+966)'},\n",
       "   {'text': 'Senegal (+221)', 'value': 'Senegal (+221)'},\n",
       "   {'text': 'Serbia (+381)', 'value': 'Serbia (+381)'},\n",
       "   {'text': 'Seychelles (+248)', 'value': 'Seychelles (+248)'},\n",
       "   {'text': 'Sierra Leone (+232)', 'value': 'Sierra Leone (+232)'},\n",
       "   {'text': 'Singapore (+65)', 'value': 'Singapore (+65)'},\n",
       "   {'text': 'Slovak Republic (+421)', 'value': 'Slovak Republic (+421)'},\n",
       "   {'text': 'Slovenia (+386)', 'value': 'Slovenia (+386)'},\n",
       "   {'text': 'Solomon Islands (+677)', 'value': 'Solomon Islands (+677)'},\n",
       "   {'text': 'Somalia (+252)', 'value': 'Somalia (+252)'},\n",
       "   {'text': 'South Africa (+27)', 'value': 'South Africa (+27)'},\n",
       "   {'text': 'South Sudan (+211)', 'value': 'South Sudan (+211)'},\n",
       "   {'text': 'Spain (+34)', 'value': 'Spain (+34)'},\n",
       "   {'text': 'Sri Lanka (+94)', 'value': 'Sri Lanka (+94)'},\n",
       "   {'text': 'Sudan (+249)', 'value': 'Sudan (+249)'},\n",
       "   {'text': 'Suriname (+597)', 'value': 'Suriname (+597)'},\n",
       "   {'text': 'Svalbard and Jan Mayen (+47)',\n",
       "    'value': 'Svalbard and Jan Mayen (+47)'},\n",
       "   {'text': 'Swaziland (+268)', 'value': 'Swaziland (+268)'},\n",
       "   {'text': 'Sweden (+46)', 'value': 'Sweden (+46)'},\n",
       "   {'text': 'Switzerland (+41)', 'value': 'Switzerland (+41)'},\n",
       "   {'text': 'Syria (+963)', 'value': 'Syria (+963)'},\n",
       "   {'text': 'Taiwan (+886)', 'value': 'Taiwan (+886)'},\n",
       "   {'text': 'Tajikistan (+992)', 'value': 'Tajikistan (+992)'},\n",
       "   {'text': 'Tanzania (+255)', 'value': 'Tanzania (+255)'},\n",
       "   {'text': 'Thailand (+66)', 'value': 'Thailand (+66)'},\n",
       "   {'text': 'Timor-Leste (+670)', 'value': 'Timor-Leste (+670)'},\n",
       "   {'text': 'Togo (+228)', 'value': 'Togo (+228)'},\n",
       "   {'text': 'Tokelau (+690)', 'value': 'Tokelau (+690)'},\n",
       "   {'text': 'Tonga (+676)', 'value': 'Tonga (+676)'},\n",
       "   {'text': 'Trinidad and Tobago (+1)', 'value': 'Trinidad and Tobago (+1)'},\n",
       "   {'text': 'Tunisia (+216)', 'value': 'Tunisia (+216)'},\n",
       "   {'text': 'Turkey (+90)', 'value': 'Turkey (+90)'},\n",
       "   {'text': 'Turkmenistan (+993)', 'value': 'Turkmenistan (+993)'},\n",
       "   {'text': 'Turks and Caicos Islands (+1)',\n",
       "    'value': 'Turks and Caicos Islands (+1)'},\n",
       "   {'text': 'Tuvalu (+688)', 'value': 'Tuvalu (+688)'},\n",
       "   {'text': 'Uganda (+256)', 'value': 'Uganda (+256)'},\n",
       "   {'text': 'Ukraine (+380)', 'value': 'Ukraine (+380)'},\n",
       "   {'text': 'United Arab Emirates (+971)',\n",
       "    'value': 'United Arab Emirates (+971)'},\n",
       "   {'text': 'United Kingdom (+44)', 'value': 'United Kingdom (+44)'},\n",
       "   {'text': 'Uruguay (+598)', 'value': 'Uruguay (+598)'},\n",
       "   {'text': 'Uzbekistan (+998)', 'value': 'Uzbekistan (+998)'},\n",
       "   {'text': 'Vanuatu (+678)', 'value': 'Vanuatu (+678)'},\n",
       "   {'text': 'Vatican City State (Holy See) (+39)',\n",
       "    'value': 'Vatican City State (Holy See) (+39)'},\n",
       "   {'text': 'Venezuela (+58)', 'value': 'Venezuela (+58)'},\n",
       "   {'text': 'Vietnam (+84)', 'value': 'Vietnam (+84)'},\n",
       "   {'text': 'Virgin Islands (British) (+1)',\n",
       "    'value': 'Virgin Islands (British) (+1)'},\n",
       "   {'text': 'Virgin Islands (U.S.) (+1)',\n",
       "    'value': 'Virgin Islands (U.S.) (+1)'},\n",
       "   {'text': 'Wallis and Futuna (+681)', 'value': 'Wallis and Futuna (+681)'},\n",
       "   {'text': 'Western Sahara (+212)', 'value': 'Western Sahara (+212)'},\n",
       "   {'text': 'Yemen (+967)', 'value': 'Yemen (+967)'},\n",
       "   {'text': 'Zambia (+260)', 'value': 'Zambia (+260)'},\n",
       "   {'text': 'Zimbabwe (+263)', 'value': 'Zimbabwe (+263)'}])]"
      ]
     },
     "execution_count": 16,
     "metadata": {},
     "output_type": "execute_result"
    }
   ],
   "source": [
    "dd_prompts_and_options"
   ]
  },
  {
   "cell_type": "code",
   "execution_count": 15,
   "metadata": {},
   "outputs": [
    {
     "data": {
      "text/plain": [
       "[(\"Have you completed the following level of education: Bachelor's Degree?\",\n",
       "  [{'text': 'Yes', 'value': 'Yes'}, {'text': 'No', 'value': 'No'}]),\n",
       " (\"Have you completed the following level of education: Bachelor's Degree?\",\n",
       "  [{'text': 'Yes', 'value': 'Yes'}, {'text': 'No', 'value': 'No'}]),\n",
       " ('Will you now, or in the future, require sponsorship for employment visa status (e.g. H-1B visa status)?',\n",
       "  [{'text': 'Yes', 'value': 'Yes'}, {'text': 'No', 'value': 'No'}])]"
      ]
     },
     "execution_count": 15,
     "metadata": {},
     "output_type": "execute_result"
    }
   ],
   "source": [
    "rb_prompts_and_options"
   ]
  },
  {
   "cell_type": "code",
   "execution_count": 31,
   "metadata": {},
   "outputs": [
    {
     "name": "stdout",
     "output_type": "stream",
     "text": [
      "Are you legally authorized to work in the United States?\n"
     ]
    }
   ],
   "source": [
    "for rb_q_c in radiobutton_question_containers:\n",
    "    question_prompt = rb_q_c.find_element(By.XPATH, \"//span[@data-test-form-builder-radio-button-form-component__title]/span[@aria-hidden='true']\").text\n",
    "    print(question_prompt)\n",
    "\n",
    "    input_containers = rb_q_c.find_elements(By.TAG_NAME, \"div\")\n",
    "\n",
    "    # List to store the dictionaries\n",
    "    option_list = []\n",
    "\n",
    "    for input_container in input_containers:\n",
    "        input = input_container.find_element(By.TAG_NAME, \"input\")\n",
    "        value = input.get_attribute('value')\n",
    "\n",
    "        inner_text = input_container.find_element(By.TAG_NAME, \"label\").text\n",
    "\n",
    "        option_dict = {\n",
    "            \"text\": inner_text,\n",
    "            \"value\": value\n",
    "        }\n",
    "        option_list.append(option_dict)"
   ]
  },
  {
   "cell_type": "code",
   "execution_count": 32,
   "metadata": {},
   "outputs": [
    {
     "data": {
      "text/plain": [
       "[{'text': 'Yes', 'value': 'penis'}, {'text': 'No', 'value': 'No'}]"
      ]
     },
     "execution_count": 32,
     "metadata": {},
     "output_type": "execute_result"
    }
   ],
   "source": [
    "option_list"
   ]
  },
  {
   "cell_type": "code",
   "execution_count": 26,
   "metadata": {},
   "outputs": [
    {
     "name": "stdout",
     "output_type": "stream",
     "text": [
      "This is an in-person role in Horizon's Charlotte, NC office. If you don't currently live in the Charlotte area, are you open to relocating?\n",
      "[{'text': 'Select an option', 'value': 'Select an option'}, {'text': 'Yes', 'value': 'Yes'}, {'text': 'No', 'value': 'No'}]\n"
     ]
    }
   ],
   "source": [
    "for dd_q_c in dropdown_question_containers:\n",
    "    question_prompt = dd_q_c.find_element(By.XPATH, \"./label/span[@aria-hidden='true']\").text\n",
    "\n",
    "    select = dd_q_c.find_element(By.TAG_NAME, \"select\")\n",
    "    options = select.find_elements(By.TAG_NAME, \"option\")\n",
    "\n",
    "    # List to store the dictionaries\n",
    "    option_list = []\n",
    "\n",
    "    # Loop through the \"option\" elements and extract inner text and value\n",
    "    for option in options:\n",
    "        inner_text = option.text\n",
    "        value = option.get_attribute(\"value\")\n",
    "\n",
    "        # Create a dictionary for each \"option\" element and add it to the list\n",
    "        option_dict = {\n",
    "            \"text\": inner_text,\n",
    "            \"value\": value\n",
    "        }\n",
    "        option_list.append(option_dict)\n",
    "\n",
    "    # Print the list of dictionaries\n",
    "    print(question_prompt)\n",
    "    print(option_list)"
   ]
  },
  {
   "cell_type": "code",
   "execution_count": 27,
   "metadata": {},
   "outputs": [],
   "source": [
    "next_btn = hh_9000.driver.find_element(By.XPATH, \"//span[text()='Next']/ancestor::button\")\n",
    "next_btn.click()"
   ]
  },
  {
   "cell_type": "code",
   "execution_count": 8,
   "metadata": {},
   "outputs": [],
   "source": [
    "job_info_container = hh_9000.driver.find_element(By.XPATH, \"//div[@class='job-view-layout jobs-details']\")"
   ]
  },
  {
   "cell_type": "code",
   "execution_count": 9,
   "metadata": {},
   "outputs": [],
   "source": [
    "job_short = job_info_container.find_element(By.XPATH, \".//div[@class='jobs-unified-top-card__content--two-pane']\")\n",
    "company_location_info = job_short.find_element(By.XPATH, \"./div[@class='jobs-unified-top-card__primary-description']\")"
   ]
  },
  {
   "cell_type": "code",
   "execution_count": 10,
   "metadata": {},
   "outputs": [
    {
     "data": {
      "text/plain": [
       "'Heartland America · Chaska, MN (Hybrid)  1 day ago  · 378 applicants'"
      ]
     },
     "execution_count": 10,
     "metadata": {},
     "output_type": "execute_result"
    }
   ],
   "source": [
    "company_location_info.text"
   ]
  },
  {
   "cell_type": "code",
   "execution_count": 8,
   "metadata": {},
   "outputs": [],
   "source": [
    "job_info = {}\n",
    "hh_9000.add_info_if_exists(job_info, 'salary', job_short, \"(.//li[@class='jobs-unified-top-card__job-insight'])[1]\")\n",
    "hh_9000.add_info_if_exists(job_info, 'numemployees', job_short, \"(.//li[@class='jobs-unified-top-card__job-insight'])[2]\")\n",
    "hh_9000.add_info_if_exists(job_info, 'location', company_location_info, \"./div\")\n",
    "hh_9000.add_info_if_exists(job_info, 'workplacetype', company_location_info, \"./div\")"
   ]
  },
  {
   "cell_type": "code",
   "execution_count": 9,
   "metadata": {},
   "outputs": [
    {
     "data": {
      "text/plain": [
       "{'salary': 'Full-time',\n",
       " 'numemployees': '1-10 employees',\n",
       " 'location': 'Dirac, Inc. · New York City Metropolitan Area (Hybrid)  3 weeks ago  · 280 applicants',\n",
       " 'workplacetype': 'Dirac, Inc. · New York City Metropolitan Area (Hybrid)  3 weeks ago  · 280 applicants'}"
      ]
     },
     "execution_count": 9,
     "metadata": {},
     "output_type": "execute_result"
    }
   ],
   "source": [
    "job_info"
   ]
  },
  {
   "cell_type": "code",
   "execution_count": 14,
   "metadata": {},
   "outputs": [],
   "source": [
    "def parse_job_string(job_string):\n",
    "    pattern = r'^(.*?) · (.*?) \\((.*?)\\) +(\\d+ (day|week|month)s? ago) +· +(\\d+(?:,\\d+)? applicants)$'\n",
    "    match = re.match(pattern, job_string)\n",
    "\n",
    "    if match:\n",
    "        company_name = match.group(1)\n",
    "        location = match.group(2)\n",
    "        workplace_type = match.group(3)\n",
    "        posted_time_ago = match.group(4)\n",
    "        num_applicants = match.group(6).replace(',', '')\n",
    "\n",
    "        job_attributes = {\n",
    "            \"company_name\": company_name,\n",
    "            \"location\": location,\n",
    "            \"workplace_type\": workplace_type,\n",
    "            \"posted_time_ago\": posted_time_ago,\n",
    "            \"num_applicants\": num_applicants\n",
    "        }\n",
    "        return job_attributes\n",
    "    else:\n",
    "        return None\n",
    "    \n",
    "job_attr_from_string = parse_job_string(\"Heartland America · Chaska, MN (Hybrid)  1 day ago  · 378 applicants\")"
   ]
  },
  {
   "cell_type": "code",
   "execution_count": 15,
   "metadata": {},
   "outputs": [
    {
     "data": {
      "text/plain": [
       "{'company_name': 'Heartland America',\n",
       " 'location': 'Chaska, MN',\n",
       " 'workplace_type': 'Hybrid',\n",
       " 'posted_time_ago': '1 day ago',\n",
       " 'num_applicants': '378 applicants'}"
      ]
     },
     "execution_count": 15,
     "metadata": {},
     "output_type": "execute_result"
    }
   ],
   "source": [
    "job_attr_from_string"
   ]
  },
  {
   "cell_type": "code",
   "execution_count": 20,
   "metadata": {},
   "outputs": [],
   "source": [
    "job_dict = {}\n",
    "job_dict.update(job_attr_from_string)"
   ]
  },
  {
   "cell_type": "code",
   "execution_count": 21,
   "metadata": {},
   "outputs": [
    {
     "data": {
      "text/plain": [
       "{'company_name': 'Dirac, Inc.',\n",
       " 'location': 'New York City Metropolitan Area',\n",
       " 'workplace_type': 'Hybrid',\n",
       " 'posted_time_ago': '3 weeks',\n",
       " 'num_applicants': '280 applicants'}"
      ]
     },
     "execution_count": 21,
     "metadata": {},
     "output_type": "execute_result"
    }
   ],
   "source": [
    "job_dict"
   ]
  },
  {
   "cell_type": "code",
   "execution_count": 4,
   "metadata": {},
   "outputs": [],
   "source": [
    "time.sleep(random.uniform(1,2))\n",
    "hh_9000.scroll_through_sidebar()\n",
    "job_listings = hh_9000.driver.find_elements_by_xpath(\"//div[contains(@class, 'job-card-container') and contains(@class, 'job-card-list')]\")"
   ]
  },
  {
   "cell_type": "code",
   "execution_count": 14,
   "metadata": {},
   "outputs": [],
   "source": [
    "from selenium.common.exceptions import NoSuchElementException"
   ]
  },
  {
   "cell_type": "code",
   "execution_count": 17,
   "metadata": {},
   "outputs": [],
   "source": [
    "def loop_through_questions(hh_9000, job_id):\n",
    "    job_info_container = hh_9000.driver.find_element_by_xpath(\"//div[@class='job-view-layout jobs-details']\")\n",
    "    job_short = job_info_container.find_element_by_xpath(\".//div[@class='jobs-unified-top-card__content--two-pane']\")\n",
    "    job_short.find_element_by_xpath(\".//button[contains(@class, 'jobs-apply-button')]\").click() # click easy apply\n",
    "    # Loop through questions  //button[@data-easy-apply-next-button]\n",
    "    more_questions = True\n",
    "    while(more_questions):\n",
    "        dd_and_fr_question_forms = hh_9000.driver.find_elements_by_xpath(\"//div[@class='jobs-easy-apply-content']//div[@class='jobs-easy-apply-form-section__grouping']/div[contains(@class, 'jobs-easy-apply-form-element')]\")\n",
    "        rb_question_forms = hh_9000.driver.find_elements_by_xpath(\"//div[@class='jobs-easy-apply-content']//div[@class='jobs-easy-apply-form-section__grouping']/fieldset\")\n",
    "\n",
    "        for q_form in dd_and_fr_question_forms: # dropdown: fb-dropdown    ---   free-response: fb-single-line-text\n",
    "            question_text = q_form.find_element_by_xpath(\"./label/span[not(@class='visually-hidden')]\").text\n",
    "            question_type = q_form.find_element_by_xpath(\"./div\").get_attribute(\"class\")\n",
    "\n",
    "            # //div[@class='jobs-easy-apply-content']//div[@class='jobs-easy-apply-form-section__grouping']/div[contains(@class, 'jobs-easy-apply-form-element')]/div/select/option\n",
    "            if question_type == \"fb-dropdown\":\n",
    "                \n",
    "                options = q_form.find_elements_by_xpath(\"./div/select/option\")\n",
    "                option_vals = [option.get_attribute(\"value\") for option in options]\n",
    "\n",
    "                option_sets = hh_9000.litehelper.get_from_table(\"Questions q INNER JOIN DropDownQuestions d on q.QuestionID = d.DropDownQuestionID\", ['OptionSetID'], {\"Question\": question_text})\n",
    "                if option_sets: # question has already been added\n",
    "                    for option_set in option_sets:\n",
    "                        db_options = hh_9000.litehelper.get_from_table(\"Options\", ['OptionText', 'Value'], {\"OptionSetID\": option_set})\n",
    "                        db_option_texts = set()\n",
    "                        if all([option_text in db_option_texts for option_text in option_texts]) and all([option_val in db_option_vals for option_val in option_vals]):\n",
    "                            q_id = hh_9000.litehelper.get_from_table(\"DropDownQuestions\", ['DropDownQuestionID'], {\"OptionSet\": option_set})\n",
    "                            hh_9000.litehelper.insert_job_question(**{'JobID': job_id, 'QuestionID': q_id})\n",
    "                            break\n",
    "                    \n",
    "                        \n",
    "                    \n",
    "\n",
    "                # if question is in db\n",
    "                    # store all option_sets in a list of sets\n",
    "                    # then for each set check if all options in the UI are in that set\n",
    "                    # if ALL options are in that set, then this is the correct set and we just need to store reference to the OptionSetID\n",
    "                    # else we need to add the same question to the db - this time with the new option set\n",
    "                # else we need to add it to the db along with all the options\n",
    "                \n",
    "                \n",
    "\n",
    "            print(question_text, question_type)\n",
    "\n",
    "        for q_form in rb_question_forms:\n",
    "            question_text = q_form.find_element_by_xpath(\"./legend/span[not(@class='visually-hidden')]\").text\n",
    "            options = q_form.find_element_by_xpath(\"./div[@class='fb-radio-buttons']\")\n",
    "            print(question_text)\n",
    "\n",
    "        next_q_button = find_element_by_xpath_safe(hh_9000.driver, \"//button[@data-easy-apply-next-button]\")\n",
    "        if next_q_button:\n",
    "            next_q_button.click()\n",
    "        else:\n",
    "            more_questions = False\n",
    "\n",
    "def find_element_by_xpath_safe(element, xpath_from_element):\n",
    "    try:\n",
    "        return element.find_element_by_xpath(xpath_from_element)\n",
    "    except NoSuchElementException:\n",
    "        return None"
   ]
  },
  {
   "cell_type": "code",
   "execution_count": 18,
   "metadata": {},
   "outputs": [
    {
     "name": "stdout",
     "output_type": "stream",
     "text": [
      "Email address fb-dropdown\n",
      "Phone country code fb-dropdown\n",
      "Mobile phone number fb-single-line-text\n",
      "How many years of work experience do you have using Tableau? fb-single-line-text\n",
      "How many years of work experience do you have using Python (Programming Language)? fb-single-line-text\n",
      "Have you completed the following level of education: Bachelor's Degree?\n",
      "Are you legally authorized to work in the United States?\n"
     ]
    }
   ],
   "source": [
    "for i in range(len(job_listings)):\n",
    "    just_added = False\n",
    "    time.sleep(random.uniform(1,2))\n",
    "    link = job_listings[i].find_element_by_xpath(\".//a[contains(@class, 'job-card-container__link') and contains(@class, 'job-card-list__title')]\")\n",
    "    link.click()\n",
    "    ext_job_id = job_listings[i].get_attribute(\"data-job-id\")\n",
    "    if not hh_9000.litehelper.is_in_table('Jobs', **{'JobBoardID':'linkedin', 'ExtJobID': ext_job_id}):\n",
    "        job_info = hh_9000.build_job_info(ext_job_id)\n",
    "        hh_9000.litehelper.insert_job(**job_info)\n",
    "        just_added = True\n",
    "\n",
    "    if just_added or hh_9000.litehelper.is_in_table('Jobs', **{'JobBoardID':'linkedin', 'ExtJobID': ext_job_id, 'AppSubmitted': 0}):\n",
    "        loop_through_questions(hh_9000)\n",
    "        break\n",
    "\n",
    "            # If all Questions for Job already have Answers\n",
    "\n",
    "            # Else if there are not yet any Questions"
   ]
  },
  {
   "attachments": {},
   "cell_type": "markdown",
   "metadata": {},
   "source": [
    "### Old"
   ]
  },
  {
   "cell_type": "code",
   "execution_count": 5,
   "metadata": {},
   "outputs": [],
   "source": [
    "job_listings = hh_9000.driver.find_elements_by_xpath(\"//div[contains(@class, 'job-card-container') and contains(@class, 'job-card-list')]\")"
   ]
  },
  {
   "cell_type": "code",
   "execution_count": 8,
   "metadata": {},
   "outputs": [],
   "source": [
    "job_info_container = hh_9000.driver.find_element_by_xpath(\"//div[@class='job-view-layout jobs-details']\")\n",
    "job_short = job_info_container.find_element_by_xpath(\".//div[@class='jobs-unified-top-card__content--two-pane']\")\n",
    "easy_apply = job_short.find_element_by_xpath(\".//button[contains(@class, 'jobs-apply-button')]\").click()"
   ]
  },
  {
   "cell_type": "code",
   "execution_count": 25,
   "metadata": {},
   "outputs": [],
   "source": [
    "dd_and_fr_question_forms = hh_9000.driver.find_elements_by_xpath(\"//div[@class='jobs-easy-apply-content']//div[@class='jobs-easy-apply-form-section__grouping']/div[contains(@class, 'jobs-easy-apply-form-element')]\")\n",
    "rb_question_forms = hh_9000.driver.find_elements_by_xpath(\"//div[@class='jobs-easy-apply-content']//div[@class='jobs-easy-apply-form-section__grouping']/fieldset\")"
   ]
  },
  {
   "cell_type": "code",
   "execution_count": 26,
   "metadata": {},
   "outputs": [],
   "source": [
    "for q_form in dd_and_fr_question_forms:\n",
    "    question_text = q_form.find_element_by_xpath(\"./label/span[not(@class='visually-hidden')]\").text\n",
    "    question_type = q_form.find_element_by_xpath(\"./div\").get_attribute(\"class\")\n",
    "    print(question_text, question_type)"
   ]
  },
  {
   "cell_type": "code",
   "execution_count": 27,
   "metadata": {},
   "outputs": [
    {
     "name": "stdout",
     "output_type": "stream",
     "text": [
      "Are you comfortable commuting to this job's location?\n"
     ]
    }
   ],
   "source": [
    "for q_form in rb_question_forms:\n",
    "    question_text = q_form.find_element_by_xpath(\"./legend/span[not(@class='visually-hidden')]\")\n",
    "    options = q_form.find_element_by_xpath(\"./div[@class='fb-radio-buttons']\")\n",
    "    print(question_text)"
   ]
  },
  {
   "cell_type": "code",
   "execution_count": null,
   "metadata": {},
   "outputs": [],
   "source": []
  }
 ],
 "metadata": {
  "interpreter": {
   "hash": "8e78e047b32366f522c98bda6a2dbe72ffea23751f9e8ea03f39107f7c32989a"
  },
  "kernelspec": {
   "display_name": "Python 3.7.13 ('Head_Hunter_9000')",
   "language": "python",
   "name": "python3"
  },
  "language_info": {
   "codemirror_mode": {
    "name": "ipython",
    "version": 3
   },
   "file_extension": ".py",
   "mimetype": "text/x-python",
   "name": "python",
   "nbconvert_exporter": "python",
   "pygments_lexer": "ipython3",
   "version": "3.10.11"
  },
  "orig_nbformat": 4
 },
 "nbformat": 4,
 "nbformat_minor": 2
}
