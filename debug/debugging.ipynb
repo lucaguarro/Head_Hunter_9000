{
 "cells": [
  {
   "cell_type": "code",
   "execution_count": 12,
   "metadata": {},
   "outputs": [],
   "source": [
    "import sys, os\n",
    "\n",
    "sys.path.insert(0, \"../src\")\n",
    "from linkedin import Head_Hunter_9000"
   ]
  },
  {
   "cell_type": "code",
   "execution_count": 13,
   "metadata": {},
   "outputs": [],
   "source": [
    "from selenium import webdriver\n",
    "from selenium.webdriver.common.by import By\n",
    "from webdriver_manager.chrome import ChromeDriverManager\n",
    "from selenium.webdriver.common.keys import Keys\n",
    "from selenium.webdriver import ChromeOptions\n",
    "import html2text\n",
    "from selenium.common.exceptions import NoSuchElementException\n",
    "import urllib.parse\n",
    "import configparser\n",
    "import random\n",
    "import time\n",
    "\n",
    "import re\n",
    "from data.architecture import JobBoard, Job, FreeResponseQuestion, RadioButtonsQuestion, DropDownQuestion, Option\n",
    "\n"
   ]
  },
  {
   "cell_type": "code",
   "execution_count": 14,
   "metadata": {},
   "outputs": [
    {
     "name": "stdout",
     "output_type": "stream",
     "text": [
      "https://www.linkedin.com/jobs/search/?f_AL=true&f_E=1%2C2%2C3&f_JT=F%2CC%2CT&f_WT=1%2C2%2C3&keywords=Data%20Analyst&location=United%20States\n"
     ]
    },
    {
     "name": "stderr",
     "output_type": "stream",
     "text": [
      "[WDM] - Downloading: 100%|██████████| 6.98M/6.98M [00:00<00:00, 29.9MB/s]\n",
      "Exception ignored in: <function Head_Hunter_9000.__del__ at 0x7f3c526e8550>\n",
      "Traceback (most recent call last):\n",
      "  File \"/home/luca/Documents/Projects/Head_Hunter_9000/debug/../src/linkedin.py\", line 36, in __del__\n",
      "    self.driver.close()\n",
      "  File \"/home/luca/anaconda3/envs/headhunter9000/lib/python3.10/site-packages/selenium/webdriver/remote/webdriver.py\", line 551, in close\n",
      "    self.execute(Command.CLOSE)\n",
      "  File \"/home/luca/anaconda3/envs/headhunter9000/lib/python3.10/site-packages/selenium/webdriver/remote/webdriver.py\", line 440, in execute\n",
      "    self.error_handler.check_response(response)\n",
      "  File \"/home/luca/anaconda3/envs/headhunter9000/lib/python3.10/site-packages/selenium/webdriver/remote/errorhandler.py\", line 245, in check_response\n",
      "    raise exception_class(message, screen, stacktrace)\n",
      "selenium.common.exceptions.WebDriverException: Message: disconnected: not connected to DevTools\n",
      "  (failed to check if window was closed: disconnected: not connected to DevTools)\n",
      "  (Session info: chrome=113.0.5672.126)\n",
      "Stacktrace:\n",
      "#0 0x557f7134e133 <unknown>\n",
      "#1 0x557f71082966 <unknown>\n",
      "#2 0x557f71069e58 <unknown>\n",
      "#3 0x557f7106b2c2 <unknown>\n",
      "#4 0x557f7106b214 <unknown>\n",
      "#5 0x557f7105b6de <unknown>\n",
      "#6 0x557f7105c336 <unknown>\n",
      "#7 0x557f710e99d2 <unknown>\n",
      "#8 0x557f710deb98 <unknown>\n",
      "#9 0x557f710b346a <unknown>\n",
      "#10 0x557f710b455e <unknown>\n",
      "#11 0x557f7130dcae <unknown>\n",
      "#12 0x557f713118fe <unknown>\n",
      "#13 0x557f7131af20 <unknown>\n",
      "#14 0x557f71312923 <unknown>\n",
      "#15 0x557f712e5c0e <unknown>\n",
      "#16 0x557f71335b08 <unknown>\n",
      "#17 0x557f71335c97 <unknown>\n",
      "#18 0x557f71346113 <unknown>\n",
      "#19 0x7fab67841ea7 start_thread\n",
      "\n"
     ]
    }
   ],
   "source": [
    "hh_9000 = Head_Hunter_9000('/home/luca/Documents/Projects/Head_Hunter_9000/config.ini')\n",
    "hh_9000.login()"
   ]
  },
  {
   "cell_type": "code",
   "execution_count": 15,
   "metadata": {},
   "outputs": [],
   "source": [
    "ext_job_id = hh_9000.get_job_id(hh_9000.driver.current_url)\n",
    "job_info_container = hh_9000.driver.find_element(By.XPATH, \"//div[@class='job-view-layout jobs-details']\")\n",
    "job_info = hh_9000.build_job_info(job_info_container, ext_job_id)"
   ]
  },
  {
   "cell_type": "code",
   "execution_count": 16,
   "metadata": {},
   "outputs": [
    {
     "data": {
      "text/plain": [
       "{'companyname': 'Horizon Investments®',\n",
       " 'location': 'Charlotte, NC',\n",
       " 'workplacetype': 'On-site',\n",
       " 'postedtimeago': '1 month ago',\n",
       " 'numapplicants': '2517 applicants',\n",
       " 'salary': 'Full-time',\n",
       " 'numemployees': '51-200 employees',\n",
       " 'jobtitle': 'Data Analyst',\n",
       " 'description': 'Horizon Investments, located in Charlotte, NC, is looking for a Data Analyst.\\nThe data analyst (the analyst) will have responsibilities that are primarily\\nrelated to the production and maintenance of the firm’s investment performance\\nreturns and GIPS verification. In addition, the analyst will work with\\nHorizon’s data and analytics team on a variety of projects. The analyst should\\nhave a strong desire to learn about all facets of an investment management\\nfirm from Sales and Marketing to Operations and Portfolio Management. The\\nanalyst is not expected to be proficient on day one but to have a desire to\\nlearn over time.\\n\\n  \\n\\n **Key Responsibilities**\\n\\n  * Produce periodic performance reporting to inform team members and the broader organization on portfolio returns, risks, holdings, and expenses.\\n  * Procure and distribute performance reporting to external and internal databases, as well as produce the firm’s quarterly performance collateral.\\n  * Aid in the production of the firm’s GIPS composites and adherence to the GIPS standards.\\n  * Maintain vendor data sftp integrity.\\n  * Answer broker-dealer and platform due diligence questionnaires and request for proposals, as well as ad-hoc performance requests.\\n  * Participate in process improvement initiatives by identifying challenges and proposing and implementing solutions.\\n\\n  \\n\\n**Qualifications**\\n\\nTo perform this job successfully, the analyst must be able to perform each\\nessential duty satisfactorily and attain the position objective. The\\nrequirements listed below are representative of the knowledge, skill and/or\\nability that will be utilized. The analyst must have a general understanding\\nof the below and be interested in learning.\\n\\n  * Amazon’s AWS\\n  * Python and SQL\\n  * Microsoft Power BI\\n  * Bloomberg, FactSet, Morningstar Direct\\n\\n  \\n\\nThis is an in-person role in our Charlotte, NC office. The role is not\\neligible for remote work.\\n\\n  \\n\\nHorizon Investments provides equal employment opportunities to all employees\\nand applicants for employment and prohibits discrimination and harassment of\\nany type without regard to race, color, religion, age, sex, national origin,\\ndisability status, genetics, protected veteran status, sexual orientation,\\ngender identity or expression, or any other characteristic protected by\\nfederal, state or local laws. This policy applies to all terms and conditions\\nof employment, including recruiting, hiring, placement, promotion,\\ntermination, layoff, recall, transfer, leaves of absence, compensation and\\ntraining.\\n\\n',\n",
       " 'jobboardid': 'linkedin',\n",
       " 'appsubmitted': False,\n",
       " 'extjobid': '3641998832'}"
      ]
     },
     "execution_count": 16,
     "metadata": {},
     "output_type": "execute_result"
    }
   ],
   "source": [
    "job_info"
   ]
  },
  {
   "cell_type": "code",
   "execution_count": 17,
   "metadata": {},
   "outputs": [],
   "source": [
    "easy_apply_button = job_info_container.find_element(By.XPATH, \"//button[contains(@class, 'jobs-apply-button')]\")\n",
    "easy_apply_button.click()"
   ]
  },
  {
   "cell_type": "code",
   "execution_count": 28,
   "metadata": {},
   "outputs": [],
   "source": [
    "question_form = hh_9000.driver.find_element(By.XPATH, \"//div[@class='pb4']\")\n",
    "question_containers = question_form.find_elements(By.XPATH, \"./div[contains(@class, 'jobs-easy-apply-form-section__grouping')]\")\n",
    "dropdown_question_containers = question_form.find_elements(By.XPATH, \"./div[contains(@class, 'jobs-easy-apply-form-section__grouping')]//div[@data-test-text-entity-list-form-component]\")\n",
    "radiobutton_question_containers = question_form.find_elements(By.XPATH, \"./div[contains(@class, 'jobs-easy-apply-form-section__grouping')]//fieldset[@data-test-form-builder-radio-button-form-component]\")"
   ]
  },
  {
   "cell_type": "code",
   "execution_count": 30,
   "metadata": {},
   "outputs": [
    {
     "name": "stdout",
     "output_type": "stream",
     "text": [
      "Are you legally authorized to work in the United States?\n"
     ]
    }
   ],
   "source": [
    "for rb_q_c in radiobutton_question_containers:\n",
    "    question_prompt = rb_q_c.find_element(By.XPATH, \"//span[@data-test-form-builder-radio-button-form-component__title]/span[@aria-hidden='true']\").text\n",
    "    print(question_prompt)\n",
    "\n",
    "    input_containers = rb_q_c.find_elements(By.TAG_NAME, \"div\")\n",
    "\n",
    "    # List to store the dictionaries\n",
    "    option_list = []\n",
    "\n",
    "    for input_container in input_containers:\n",
    "        input = input_container.find_element(By.TAG_NAME, \"input\")\n",
    "        value = input.get_attribute('value')\n",
    "\n",
    "        inner_text = input_container.find_element(By.TAG_NAME, \"label\").text\n",
    "\n",
    "        option_dict = {\n",
    "            \"text\": inner_text,\n",
    "            \"value\": value\n",
    "        }\n",
    "        option_list.append(option_dict)"
   ]
  },
  {
   "cell_type": "code",
   "execution_count": 26,
   "metadata": {},
   "outputs": [
    {
     "name": "stdout",
     "output_type": "stream",
     "text": [
      "This is an in-person role in Horizon's Charlotte, NC office. If you don't currently live in the Charlotte area, are you open to relocating?\n",
      "[{'text': 'Select an option', 'value': 'Select an option'}, {'text': 'Yes', 'value': 'Yes'}, {'text': 'No', 'value': 'No'}]\n"
     ]
    }
   ],
   "source": [
    "for dd_q_c in dropdown_question_containers:\n",
    "    question_prompt = dd_q_c.find_element(By.XPATH, \"./label/span[@aria-hidden='true']\").text\n",
    "\n",
    "    select = dd_q_c.find_element(By.TAG_NAME, \"select\")\n",
    "    options = select.find_elements(By.TAG_NAME, \"option\")\n",
    "\n",
    "    # List to store the dictionaries\n",
    "    option_list = []\n",
    "\n",
    "    # Loop through the \"option\" elements and extract inner text and value\n",
    "    for option in options:\n",
    "        inner_text = option.text\n",
    "        value = option.get_attribute(\"value\")\n",
    "\n",
    "        # Create a dictionary for each \"option\" element and add it to the list\n",
    "        option_dict = {\n",
    "            \"text\": inner_text,\n",
    "            \"value\": value\n",
    "        }\n",
    "        option_list.append(option_dict)\n",
    "\n",
    "    # Print the list of dictionaries\n",
    "    print(question_prompt)\n",
    "    print(option_list)"
   ]
  },
  {
   "cell_type": "code",
   "execution_count": 27,
   "metadata": {},
   "outputs": [],
   "source": [
    "next_btn = hh_9000.driver.find_element(By.XPATH, \"//span[text()='Next']/ancestor::button\")\n",
    "next_btn.click()"
   ]
  },
  {
   "cell_type": "code",
   "execution_count": 8,
   "metadata": {},
   "outputs": [],
   "source": [
    "job_info_container = hh_9000.driver.find_element(By.XPATH, \"//div[@class='job-view-layout jobs-details']\")"
   ]
  },
  {
   "cell_type": "code",
   "execution_count": 9,
   "metadata": {},
   "outputs": [],
   "source": [
    "job_short = job_info_container.find_element(By.XPATH, \".//div[@class='jobs-unified-top-card__content--two-pane']\")\n",
    "company_location_info = job_short.find_element(By.XPATH, \"./div[@class='jobs-unified-top-card__primary-description']\")"
   ]
  },
  {
   "cell_type": "code",
   "execution_count": 10,
   "metadata": {},
   "outputs": [
    {
     "data": {
      "text/plain": [
       "'Heartland America · Chaska, MN (Hybrid)  1 day ago  · 378 applicants'"
      ]
     },
     "execution_count": 10,
     "metadata": {},
     "output_type": "execute_result"
    }
   ],
   "source": [
    "company_location_info.text"
   ]
  },
  {
   "cell_type": "code",
   "execution_count": 8,
   "metadata": {},
   "outputs": [],
   "source": [
    "job_info = {}\n",
    "hh_9000.add_info_if_exists(job_info, 'salary', job_short, \"(.//li[@class='jobs-unified-top-card__job-insight'])[1]\")\n",
    "hh_9000.add_info_if_exists(job_info, 'numemployees', job_short, \"(.//li[@class='jobs-unified-top-card__job-insight'])[2]\")\n",
    "hh_9000.add_info_if_exists(job_info, 'location', company_location_info, \"./div\")\n",
    "hh_9000.add_info_if_exists(job_info, 'workplacetype', company_location_info, \"./div\")"
   ]
  },
  {
   "cell_type": "code",
   "execution_count": 9,
   "metadata": {},
   "outputs": [
    {
     "data": {
      "text/plain": [
       "{'salary': 'Full-time',\n",
       " 'numemployees': '1-10 employees',\n",
       " 'location': 'Dirac, Inc. · New York City Metropolitan Area (Hybrid)  3 weeks ago  · 280 applicants',\n",
       " 'workplacetype': 'Dirac, Inc. · New York City Metropolitan Area (Hybrid)  3 weeks ago  · 280 applicants'}"
      ]
     },
     "execution_count": 9,
     "metadata": {},
     "output_type": "execute_result"
    }
   ],
   "source": [
    "job_info"
   ]
  },
  {
   "cell_type": "code",
   "execution_count": 14,
   "metadata": {},
   "outputs": [],
   "source": [
    "def parse_job_string(job_string):\n",
    "    pattern = r'^(.*?) · (.*?) \\((.*?)\\) +(\\d+ (day|week|month)s? ago) +· +(\\d+(?:,\\d+)? applicants)$'\n",
    "    match = re.match(pattern, job_string)\n",
    "\n",
    "    if match:\n",
    "        company_name = match.group(1)\n",
    "        location = match.group(2)\n",
    "        workplace_type = match.group(3)\n",
    "        posted_time_ago = match.group(4)\n",
    "        num_applicants = match.group(6).replace(',', '')\n",
    "\n",
    "        job_attributes = {\n",
    "            \"company_name\": company_name,\n",
    "            \"location\": location,\n",
    "            \"workplace_type\": workplace_type,\n",
    "            \"posted_time_ago\": posted_time_ago,\n",
    "            \"num_applicants\": num_applicants\n",
    "        }\n",
    "        return job_attributes\n",
    "    else:\n",
    "        return None\n",
    "    \n",
    "job_attr_from_string = parse_job_string(\"Heartland America · Chaska, MN (Hybrid)  1 day ago  · 378 applicants\")"
   ]
  },
  {
   "cell_type": "code",
   "execution_count": 15,
   "metadata": {},
   "outputs": [
    {
     "data": {
      "text/plain": [
       "{'company_name': 'Heartland America',\n",
       " 'location': 'Chaska, MN',\n",
       " 'workplace_type': 'Hybrid',\n",
       " 'posted_time_ago': '1 day ago',\n",
       " 'num_applicants': '378 applicants'}"
      ]
     },
     "execution_count": 15,
     "metadata": {},
     "output_type": "execute_result"
    }
   ],
   "source": [
    "job_attr_from_string"
   ]
  },
  {
   "cell_type": "code",
   "execution_count": 20,
   "metadata": {},
   "outputs": [],
   "source": [
    "job_dict = {}\n",
    "job_dict.update(job_attr_from_string)"
   ]
  },
  {
   "cell_type": "code",
   "execution_count": 21,
   "metadata": {},
   "outputs": [
    {
     "data": {
      "text/plain": [
       "{'company_name': 'Dirac, Inc.',\n",
       " 'location': 'New York City Metropolitan Area',\n",
       " 'workplace_type': 'Hybrid',\n",
       " 'posted_time_ago': '3 weeks',\n",
       " 'num_applicants': '280 applicants'}"
      ]
     },
     "execution_count": 21,
     "metadata": {},
     "output_type": "execute_result"
    }
   ],
   "source": [
    "job_dict"
   ]
  },
  {
   "cell_type": "code",
   "execution_count": 4,
   "metadata": {},
   "outputs": [],
   "source": [
    "time.sleep(random.uniform(1,2))\n",
    "hh_9000.scroll_through_sidebar()\n",
    "job_listings = hh_9000.driver.find_elements_by_xpath(\"//div[contains(@class, 'job-card-container') and contains(@class, 'job-card-list')]\")"
   ]
  },
  {
   "cell_type": "code",
   "execution_count": 14,
   "metadata": {},
   "outputs": [],
   "source": [
    "from selenium.common.exceptions import NoSuchElementException"
   ]
  },
  {
   "cell_type": "code",
   "execution_count": 17,
   "metadata": {},
   "outputs": [],
   "source": [
    "def loop_through_questions(hh_9000, job_id):\n",
    "    job_info_container = hh_9000.driver.find_element_by_xpath(\"//div[@class='job-view-layout jobs-details']\")\n",
    "    job_short = job_info_container.find_element_by_xpath(\".//div[@class='jobs-unified-top-card__content--two-pane']\")\n",
    "    job_short.find_element_by_xpath(\".//button[contains(@class, 'jobs-apply-button')]\").click() # click easy apply\n",
    "    # Loop through questions  //button[@data-easy-apply-next-button]\n",
    "    more_questions = True\n",
    "    while(more_questions):\n",
    "        dd_and_fr_question_forms = hh_9000.driver.find_elements_by_xpath(\"//div[@class='jobs-easy-apply-content']//div[@class='jobs-easy-apply-form-section__grouping']/div[contains(@class, 'jobs-easy-apply-form-element')]\")\n",
    "        rb_question_forms = hh_9000.driver.find_elements_by_xpath(\"//div[@class='jobs-easy-apply-content']//div[@class='jobs-easy-apply-form-section__grouping']/fieldset\")\n",
    "\n",
    "        for q_form in dd_and_fr_question_forms: # dropdown: fb-dropdown    ---   free-response: fb-single-line-text\n",
    "            question_text = q_form.find_element_by_xpath(\"./label/span[not(@class='visually-hidden')]\").text\n",
    "            question_type = q_form.find_element_by_xpath(\"./div\").get_attribute(\"class\")\n",
    "\n",
    "            # //div[@class='jobs-easy-apply-content']//div[@class='jobs-easy-apply-form-section__grouping']/div[contains(@class, 'jobs-easy-apply-form-element')]/div/select/option\n",
    "            if question_type == \"fb-dropdown\":\n",
    "                \n",
    "                options = q_form.find_elements_by_xpath(\"./div/select/option\")\n",
    "                option_vals = [option.get_attribute(\"value\") for option in options]\n",
    "\n",
    "                option_sets = hh_9000.litehelper.get_from_table(\"Questions q INNER JOIN DropDownQuestions d on q.QuestionID = d.DropDownQuestionID\", ['OptionSetID'], {\"Question\": question_text})\n",
    "                if option_sets: # question has already been added\n",
    "                    for option_set in option_sets:\n",
    "                        db_options = hh_9000.litehelper.get_from_table(\"Options\", ['OptionText', 'Value'], {\"OptionSetID\": option_set})\n",
    "                        db_option_texts = set()\n",
    "                        if all([option_text in db_option_texts for option_text in option_texts]) and all([option_val in db_option_vals for option_val in option_vals]):\n",
    "                            q_id = hh_9000.litehelper.get_from_table(\"DropDownQuestions\", ['DropDownQuestionID'], {\"OptionSet\": option_set})\n",
    "                            hh_9000.litehelper.insert_job_question(**{'JobID': job_id, 'QuestionID': q_id})\n",
    "                            break\n",
    "                    \n",
    "                        \n",
    "                    \n",
    "\n",
    "                # if question is in db\n",
    "                    # store all option_sets in a list of sets\n",
    "                    # then for each set check if all options in the UI are in that set\n",
    "                    # if ALL options are in that set, then this is the correct set and we just need to store reference to the OptionSetID\n",
    "                    # else we need to add the same question to the db - this time with the new option set\n",
    "                # else we need to add it to the db along with all the options\n",
    "                \n",
    "                \n",
    "\n",
    "            print(question_text, question_type)\n",
    "\n",
    "        for q_form in rb_question_forms:\n",
    "            question_text = q_form.find_element_by_xpath(\"./legend/span[not(@class='visually-hidden')]\").text\n",
    "            options = q_form.find_element_by_xpath(\"./div[@class='fb-radio-buttons']\")\n",
    "            print(question_text)\n",
    "\n",
    "        next_q_button = find_element_by_xpath_safe(hh_9000.driver, \"//button[@data-easy-apply-next-button]\")\n",
    "        if next_q_button:\n",
    "            next_q_button.click()\n",
    "        else:\n",
    "            more_questions = False\n",
    "\n",
    "def find_element_by_xpath_safe(element, xpath_from_element):\n",
    "    try:\n",
    "        return element.find_element_by_xpath(xpath_from_element)\n",
    "    except NoSuchElementException:\n",
    "        return None"
   ]
  },
  {
   "cell_type": "code",
   "execution_count": 18,
   "metadata": {},
   "outputs": [
    {
     "name": "stdout",
     "output_type": "stream",
     "text": [
      "Email address fb-dropdown\n",
      "Phone country code fb-dropdown\n",
      "Mobile phone number fb-single-line-text\n",
      "How many years of work experience do you have using Tableau? fb-single-line-text\n",
      "How many years of work experience do you have using Python (Programming Language)? fb-single-line-text\n",
      "Have you completed the following level of education: Bachelor's Degree?\n",
      "Are you legally authorized to work in the United States?\n"
     ]
    }
   ],
   "source": [
    "for i in range(len(job_listings)):\n",
    "    just_added = False\n",
    "    time.sleep(random.uniform(1,2))\n",
    "    link = job_listings[i].find_element_by_xpath(\".//a[contains(@class, 'job-card-container__link') and contains(@class, 'job-card-list__title')]\")\n",
    "    link.click()\n",
    "    ext_job_id = job_listings[i].get_attribute(\"data-job-id\")\n",
    "    if not hh_9000.litehelper.is_in_table('Jobs', **{'JobBoardID':'linkedin', 'ExtJobID': ext_job_id}):\n",
    "        job_info = hh_9000.build_job_info(ext_job_id)\n",
    "        hh_9000.litehelper.insert_job(**job_info)\n",
    "        just_added = True\n",
    "\n",
    "    if just_added or hh_9000.litehelper.is_in_table('Jobs', **{'JobBoardID':'linkedin', 'ExtJobID': ext_job_id, 'AppSubmitted': 0}):\n",
    "        loop_through_questions(hh_9000)\n",
    "        break\n",
    "\n",
    "            # If all Questions for Job already have Answers\n",
    "\n",
    "            # Else if there are not yet any Questions"
   ]
  },
  {
   "attachments": {},
   "cell_type": "markdown",
   "metadata": {},
   "source": [
    "### Old"
   ]
  },
  {
   "cell_type": "code",
   "execution_count": 5,
   "metadata": {},
   "outputs": [],
   "source": [
    "job_listings = hh_9000.driver.find_elements_by_xpath(\"//div[contains(@class, 'job-card-container') and contains(@class, 'job-card-list')]\")"
   ]
  },
  {
   "cell_type": "code",
   "execution_count": 8,
   "metadata": {},
   "outputs": [],
   "source": [
    "job_info_container = hh_9000.driver.find_element_by_xpath(\"//div[@class='job-view-layout jobs-details']\")\n",
    "job_short = job_info_container.find_element_by_xpath(\".//div[@class='jobs-unified-top-card__content--two-pane']\")\n",
    "easy_apply = job_short.find_element_by_xpath(\".//button[contains(@class, 'jobs-apply-button')]\").click()"
   ]
  },
  {
   "cell_type": "code",
   "execution_count": 25,
   "metadata": {},
   "outputs": [],
   "source": [
    "dd_and_fr_question_forms = hh_9000.driver.find_elements_by_xpath(\"//div[@class='jobs-easy-apply-content']//div[@class='jobs-easy-apply-form-section__grouping']/div[contains(@class, 'jobs-easy-apply-form-element')]\")\n",
    "rb_question_forms = hh_9000.driver.find_elements_by_xpath(\"//div[@class='jobs-easy-apply-content']//div[@class='jobs-easy-apply-form-section__grouping']/fieldset\")"
   ]
  },
  {
   "cell_type": "code",
   "execution_count": 26,
   "metadata": {},
   "outputs": [],
   "source": [
    "for q_form in dd_and_fr_question_forms:\n",
    "    question_text = q_form.find_element_by_xpath(\"./label/span[not(@class='visually-hidden')]\").text\n",
    "    question_type = q_form.find_element_by_xpath(\"./div\").get_attribute(\"class\")\n",
    "    print(question_text, question_type)"
   ]
  },
  {
   "cell_type": "code",
   "execution_count": 27,
   "metadata": {},
   "outputs": [
    {
     "name": "stdout",
     "output_type": "stream",
     "text": [
      "Are you comfortable commuting to this job's location?\n"
     ]
    }
   ],
   "source": [
    "for q_form in rb_question_forms:\n",
    "    question_text = q_form.find_element_by_xpath(\"./legend/span[not(@class='visually-hidden')]\")\n",
    "    options = q_form.find_element_by_xpath(\"./div[@class='fb-radio-buttons']\")\n",
    "    print(question_text)"
   ]
  },
  {
   "cell_type": "code",
   "execution_count": null,
   "metadata": {},
   "outputs": [],
   "source": []
  }
 ],
 "metadata": {
  "interpreter": {
   "hash": "8e78e047b32366f522c98bda6a2dbe72ffea23751f9e8ea03f39107f7c32989a"
  },
  "kernelspec": {
   "display_name": "Python 3.7.13 ('Head_Hunter_9000')",
   "language": "python",
   "name": "python3"
  },
  "language_info": {
   "codemirror_mode": {
    "name": "ipython",
    "version": 3
   },
   "file_extension": ".py",
   "mimetype": "text/x-python",
   "name": "python",
   "nbconvert_exporter": "python",
   "pygments_lexer": "ipython3",
   "version": "3.10.11"
  },
  "orig_nbformat": 4
 },
 "nbformat": 4,
 "nbformat_minor": 2
}
