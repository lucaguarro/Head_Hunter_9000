{
 "cells": [
  {
   "cell_type": "code",
   "execution_count": 1,
   "metadata": {},
   "outputs": [
    {
     "name": "stdout",
     "output_type": "stream",
     "text": [
      "2023-09-16 13:01:47,784 INFO sqlalchemy.engine.Engine BEGIN (implicit)\n",
      "2023-09-16 13:01:47,785 INFO sqlalchemy.engine.Engine PRAGMA main.table_info(\"jobboard\")\n",
      "2023-09-16 13:01:47,786 INFO sqlalchemy.engine.Engine [raw sql] ()\n",
      "2023-09-16 13:01:47,791 INFO sqlalchemy.engine.Engine PRAGMA main.table_info(\"jobquestion\")\n",
      "2023-09-16 13:01:47,795 INFO sqlalchemy.engine.Engine [raw sql] ()\n",
      "2023-09-16 13:01:47,797 INFO sqlalchemy.engine.Engine PRAGMA main.table_info(\"optionset\")\n",
      "2023-09-16 13:01:47,798 INFO sqlalchemy.engine.Engine [raw sql] ()\n",
      "2023-09-16 13:01:47,800 INFO sqlalchemy.engine.Engine PRAGMA main.table_info(\"job\")\n",
      "2023-09-16 13:01:47,801 INFO sqlalchemy.engine.Engine [raw sql] ()\n",
      "2023-09-16 13:01:47,804 INFO sqlalchemy.engine.Engine PRAGMA main.table_info(\"question\")\n",
      "2023-09-16 13:01:47,805 INFO sqlalchemy.engine.Engine [raw sql] ()\n",
      "2023-09-16 13:01:47,810 INFO sqlalchemy.engine.Engine PRAGMA main.table_info(\"freeresponsequestion\")\n",
      "2023-09-16 13:01:47,813 INFO sqlalchemy.engine.Engine [raw sql] ()\n",
      "2023-09-16 13:01:47,814 INFO sqlalchemy.engine.Engine PRAGMA main.table_info(\"radiobuttonquestion\")\n",
      "2023-09-16 13:01:47,816 INFO sqlalchemy.engine.Engine [raw sql] ()\n",
      "2023-09-16 13:01:47,818 INFO sqlalchemy.engine.Engine PRAGMA main.table_info(\"dropdownquestion\")\n",
      "2023-09-16 13:01:47,820 INFO sqlalchemy.engine.Engine [raw sql] ()\n",
      "2023-09-16 13:01:47,823 INFO sqlalchemy.engine.Engine PRAGMA main.table_info(\"option\")\n",
      "2023-09-16 13:01:47,825 INFO sqlalchemy.engine.Engine [raw sql] ()\n",
      "2023-09-16 13:01:47,828 INFO sqlalchemy.engine.Engine COMMIT\n"
     ]
    }
   ],
   "source": [
    "import sys, os\n",
    "\n",
    "sys.path.insert(0, \"../src\")\n",
    "from scraper.linkedin import Head_Hunter_9000"
   ]
  },
  {
   "cell_type": "code",
   "execution_count": 2,
   "metadata": {},
   "outputs": [],
   "source": [
    "from selenium import webdriver\n",
    "from selenium.webdriver.common.by import By\n",
    "from webdriver_manager.chrome import ChromeDriverManager\n",
    "from selenium.webdriver.common.keys import Keys\n",
    "from selenium.webdriver import ChromeOptions\n",
    "import html2text\n",
    "from selenium.common.exceptions import NoSuchElementException\n",
    "import urllib.parse\n",
    "import configparser\n",
    "import random\n",
    "import time\n",
    "\n",
    "import re\n",
    "from data.architecture import JobBoard, Job, FreeResponseQuestion, RadioButtonsQuestion, DropDownQuestion, Option\n",
    "\n"
   ]
  },
  {
   "cell_type": "code",
   "execution_count": 3,
   "metadata": {},
   "outputs": [
    {
     "name": "stdout",
     "output_type": "stream",
     "text": [
      "https://www.linkedin.com/jobs/search/?f_AL=true&f_E=1%2C2%2C3&f_JT=F%2CC%2CT&f_WT=1%2C2%2C3&keywords=Data%20Analyst&location=United%20States\n"
     ]
    }
   ],
   "source": [
    "hh_9000 = Head_Hunter_9000('/home/luca/Documents/Projects/Head_Hunter_9000/config.ini')\n",
    "hh_9000.login()"
   ]
  },
  {
   "cell_type": "code",
   "execution_count": 4,
   "metadata": {},
   "outputs": [],
   "source": [
    "ext_job_id = hh_9000.get_job_id(hh_9000.driver.current_url)\n",
    "job_info_container = hh_9000.driver.find_element(By.XPATH, \"//div[@class='job-view-layout jobs-details']\")\n",
    "job_info = hh_9000.build_job_info(job_info_container, ext_job_id)"
   ]
  },
  {
   "cell_type": "code",
   "execution_count": 5,
   "metadata": {},
   "outputs": [
    {
     "data": {
      "text/plain": [
       "{'companyname': 'Greenline Pet',\n",
       " 'location': 'Nashville, TN',\n",
       " 'workplacetype': 'On-site',\n",
       " 'postedtimeago': '2 days ago',\n",
       " 'numapplicants': '316 applicants',\n",
       " 'salary': '$70,000/yr - $80,000/yr + Bonus, Profit sharing · Full-time',\n",
       " 'numemployees': '11-50 employees',\n",
       " 'jobtitle': 'Data Analyst',\n",
       " 'description': 'We understand that no candidate is perfectly qualified for any job. A clear\\ndemonstration of accountability, a willingness to collaborate, and passion say\\nmore than the words on a resume. We expect you to learn and grow in this role.\\nYou are encouraged to apply even if your experience is not a “perfect” match\\nfor what we’re looking for.\\n\\n **Position Description Summary**\\n\\nWe are seeking a **Data Analyst** , who will work in Greenline’s Franklin,\\nTennessee office. This role will sit in the Data Operations team and report to\\nthe Manager of Data and Analytics Engineering. In this position you will\\nconduct analyses, report your findings to internal stakeholders, and help\\nGreenline design analytics products tailored to improve Greenline client and\\nclinic experiences.\\n\\nThe position requires extensive experience in data, analytics, and\\npresentation. The ideal candidate will be an expert in designing SQL queries\\nto build reporting that leverages data to convey a call to action for the\\nbusiness. Candidates should be comfortable consulting on all matters related\\nto data as well as partnering with account executives and DevOps to enhance\\nand develop Greenline’s data capabilities.\\n\\n**Sound interesting? Here are some specifics:**\\n\\no   Develop working knowledge of Greenline’s clients’ veterinary products and\\ncommon problems in the industry\\n\\no   Creation, quality assurance, and maintenance of reports used by\\nGreenline’s clients\\n\\no   Utilize cloud native databases (Azure SQL Server, Snowflake) in\\nconjunction with Looker to build compelling visualization to drive business\\naction\\n\\no   Troubleshoot issues and inconsistencies in reporting\\n\\no   Implement best practices in Data Operations\\n\\no   Monitor and build ETL processes in Airflow to enable analytics engineering\\n\\n  \\n\\n **Education, Experience & Skills:**\\n\\no   Bachelor’s degree (STEM, Quantitative, or Veterinary field preferred)\\n\\no   2+ years of intermediate SQL experience\\n\\no   2+ years in leveraging data to present solutions to common business\\nquestions\\n\\no   2+ years designing visualizations in Looker, Power BI, Tableau, or similar\\n\\no   Advanced experience with Excel\\n\\no   Fundamental understanding of statistics and associated assumptions\\n\\no   Self-directed and proactive with the ability to bridge the gap between\\nbusiness needs and technical solutions\\n\\no   Knowledge of the Veterinary industry is a plus\\n\\no   Experience with Cloud systems is a plus\\n\\no   Experience with Regular Expressions is a plus\\n\\no   Programming Experience a plus (Python, R, C#, Java)\\n\\n  \\n\\n **Greenline Benefits:**\\n\\no   Competitive salary and benefits package\\n\\no   Bonuses based on company and Individual performance\\n\\no   Medical, Dental, and Vision healthcare benefits\\n\\no   Retirement plan with an Employer sponsored contribution and additional\\nprofit sharing\\n\\no   Wellness & Health stipend\\n\\no   Subscription to Pluralsight, an online learning platform\\n\\n  \\n\\n **About the Company:**\\n\\nGreenline is the industry leader and preferred digital platform for digital\\ncoupons and rebate redemption in the Veterinary Industry. Founded in 2013,\\nGreenline is now present in over 10,000 veterinary clinics across North\\nAmerica and continues to grow rapidly. Greenline’s software saves veterinary\\nclinics time, improves the pet owner experience, drives compliance, increases\\ndoses and revenue, and is an environmentally friendly alternative to paper-\\nbased submissions.\\n\\n',\n",
       " 'jobboardid': 'linkedin',\n",
       " 'appsubmitted': False,\n",
       " 'extjobid': '3713421291'}"
      ]
     },
     "execution_count": 5,
     "metadata": {},
     "output_type": "execute_result"
    }
   ],
   "source": [
    "job_info"
   ]
  },
  {
   "cell_type": "code",
   "execution_count": 6,
   "metadata": {},
   "outputs": [],
   "source": [
    "easy_apply_button = job_info_container.find_element(By.XPATH, \"//button[contains(@class, 'jobs-apply-button')]\")\n",
    "easy_apply_button.click()"
   ]
  },
  {
   "cell_type": "code",
   "execution_count": null,
   "metadata": {},
   "outputs": [],
   "source": [
    "from selenium.webdriver.support.ui import Select\n",
    "\n",
    "def get_next_btn():\n",
    "    nxt_btn = hh_9000.driver.find_elements(By.XPATH, \"//span[text()='Next']/ancestor::button\")\n",
    "    if nxt_btn:\n",
    "        return nxt_btn[0]\n",
    "    \n",
    "    rvw_btn = hh_9000.driver.find_elements(By.XPATH, \"//span[text()='Review']/ancestor::button\")\n",
    "    if rvw_btn:\n",
    "        return rvw_btn[0]\n",
    "    \n",
    "    return None\n",
    "\n",
    "\n",
    "def fill_out_questions(freeresponse_question_containers, dropdown_question_containers, radiobutton_question_containers):\n",
    "    for fr_q in freeresponse_question_containers:\n",
    "        input_tag = fr_q.find_element(By.TAG_NAME, \"input\")\n",
    "        input_tag.clear()\n",
    "        input_tag.send_keys(\"1\")\n",
    "\n",
    "    for dd_q in dropdown_question_containers:\n",
    "        select_el = dd_q.find_element(By.TAG_NAME, \"select\")\n",
    "        select = Select(select_el)\n",
    "        select.select_by_index(1)\n",
    "\n",
    "    for rb_q in radiobutton_question_containers:\n",
    "        radio_buttons = rb_q.find_elements(By.XPATH, \".//label\")\n",
    "        if radio_buttons:\n",
    "            radio_buttons[0].click()\n",
    "\n",
    "\n",
    "fr_prompts = []\n",
    "dd_prompts_and_options = []\n",
    "rb_prompts_and_options = []\n",
    "\n",
    "next_btn = True\n",
    "while next_btn:\n",
    "    next_btn = get_next_btn()\n",
    "    question_form = hh_9000.driver.find_element(By.XPATH, \"//div[@class='pb4']\")\n",
    "\n",
    "    freeresponse_question_containers = question_form.find_elements(By.XPATH, \"./div[contains(@class, 'jobs-easy-apply-form-section__grouping')]//div[@data-test-single-line-text-form-component]\")\n",
    "    dropdown_question_containers = question_form.find_elements(By.XPATH, \"./div[contains(@class, 'jobs-easy-apply-form-section__grouping')]//div[@data-test-text-entity-list-form-component]\")\n",
    "    radiobutton_question_containers = question_form.find_elements(By.XPATH, \"./div[contains(@class, 'jobs-easy-apply-form-section__grouping')]//fieldset[@data-test-form-builder-radio-button-form-component]\")\n",
    "\n",
    "    fill_out_questions(freeresponse_question_containers, dropdown_question_containers, radiobutton_question_containers)\n",
    "\n",
    "    fr_prompts.extend(hh_9000.scrape_freeresponse_questions(freeresponse_question_containers))\n",
    "    dd_prompts_and_options.extend(hh_9000.scrape_dropdown_questions(dropdown_question_containers))\n",
    "    rb_prompts_and_options.extend(hh_9000.scrape_radiobutton_questions(radiobutton_question_containers))\n",
    "\n",
    "    next_btn.click()\n"
   ]
  },
  {
   "cell_type": "code",
   "execution_count": 15,
   "metadata": {},
   "outputs": [
    {
     "data": {
      "text/plain": [
       "[(\"Have you completed the following level of education: Bachelor's Degree?\",\n",
       "  [{'text': 'Yes', 'value': 'Yes'}, {'text': 'No', 'value': 'No'}]),\n",
       " (\"Have you completed the following level of education: Bachelor's Degree?\",\n",
       "  [{'text': 'Yes', 'value': 'Yes'}, {'text': 'No', 'value': 'No'}]),\n",
       " ('Will you now, or in the future, require sponsorship for employment visa status (e.g. H-1B visa status)?',\n",
       "  [{'text': 'Yes', 'value': 'Yes'}, {'text': 'No', 'value': 'No'}])]"
      ]
     },
     "execution_count": 15,
     "metadata": {},
     "output_type": "execute_result"
    }
   ],
   "source": [
    "rb_prompts_and_options"
   ]
  },
  {
   "cell_type": "code",
   "execution_count": 31,
   "metadata": {},
   "outputs": [
    {
     "name": "stdout",
     "output_type": "stream",
     "text": [
      "Are you legally authorized to work in the United States?\n"
     ]
    }
   ],
   "source": [
    "for rb_q_c in radiobutton_question_containers:\n",
    "    question_prompt = rb_q_c.find_element(By.XPATH, \"//span[@data-test-form-builder-radio-button-form-component__title]/span[@aria-hidden='true']\").text\n",
    "    print(question_prompt)\n",
    "\n",
    "    input_containers = rb_q_c.find_elements(By.TAG_NAME, \"div\")\n",
    "\n",
    "    # List to store the dictionaries\n",
    "    option_list = []\n",
    "\n",
    "    for input_container in input_containers:\n",
    "        input = input_container.find_element(By.TAG_NAME, \"input\")\n",
    "        value = input.get_attribute('value')\n",
    "\n",
    "        inner_text = input_container.find_element(By.TAG_NAME, \"label\").text\n",
    "\n",
    "        option_dict = {\n",
    "            \"text\": inner_text,\n",
    "            \"value\": value\n",
    "        }\n",
    "        option_list.append(option_dict)"
   ]
  },
  {
   "cell_type": "code",
   "execution_count": 32,
   "metadata": {},
   "outputs": [
    {
     "data": {
      "text/plain": [
       "[{'text': 'Yes', 'value': 'penis'}, {'text': 'No', 'value': 'No'}]"
      ]
     },
     "execution_count": 32,
     "metadata": {},
     "output_type": "execute_result"
    }
   ],
   "source": [
    "option_list"
   ]
  },
  {
   "cell_type": "code",
   "execution_count": 26,
   "metadata": {},
   "outputs": [
    {
     "name": "stdout",
     "output_type": "stream",
     "text": [
      "This is an in-person role in Horizon's Charlotte, NC office. If you don't currently live in the Charlotte area, are you open to relocating?\n",
      "[{'text': 'Select an option', 'value': 'Select an option'}, {'text': 'Yes', 'value': 'Yes'}, {'text': 'No', 'value': 'No'}]\n"
     ]
    }
   ],
   "source": [
    "for dd_q_c in dropdown_question_containers:\n",
    "    question_prompt = dd_q_c.find_element(By.XPATH, \"./label/span[@aria-hidden='true']\").text\n",
    "\n",
    "    select = dd_q_c.find_element(By.TAG_NAME, \"select\")\n",
    "    options = select.find_elements(By.TAG_NAME, \"option\")\n",
    "\n",
    "    # List to store the dictionaries\n",
    "    option_list = []\n",
    "\n",
    "    # Loop through the \"option\" elements and extract inner text and value\n",
    "    for option in options:\n",
    "        inner_text = option.text\n",
    "        value = option.get_attribute(\"value\")\n",
    "\n",
    "        # Create a dictionary for each \"option\" element and add it to the list\n",
    "        option_dict = {\n",
    "            \"text\": inner_text,\n",
    "            \"value\": value\n",
    "        }\n",
    "        option_list.append(option_dict)\n",
    "\n",
    "    # Print the list of dictionaries\n",
    "    print(question_prompt)\n",
    "    print(option_list)"
   ]
  },
  {
   "cell_type": "code",
   "execution_count": 27,
   "metadata": {},
   "outputs": [],
   "source": [
    "next_btn = hh_9000.driver.find_element(By.XPATH, \"//span[text()='Next']/ancestor::button\")\n",
    "next_btn.click()"
   ]
  },
  {
   "cell_type": "code",
   "execution_count": 8,
   "metadata": {},
   "outputs": [],
   "source": [
    "job_info_container = hh_9000.driver.find_element(By.XPATH, \"//div[@class='job-view-layout jobs-details']\")"
   ]
  },
  {
   "cell_type": "code",
   "execution_count": 9,
   "metadata": {},
   "outputs": [],
   "source": [
    "job_short = job_info_container.find_element(By.XPATH, \".//div[@class='jobs-unified-top-card__content--two-pane']\")\n",
    "company_location_info = job_short.find_element(By.XPATH, \"./div[@class='jobs-unified-top-card__primary-description']\")"
   ]
  },
  {
   "cell_type": "code",
   "execution_count": 10,
   "metadata": {},
   "outputs": [
    {
     "data": {
      "text/plain": [
       "'Heartland America · Chaska, MN (Hybrid)  1 day ago  · 378 applicants'"
      ]
     },
     "execution_count": 10,
     "metadata": {},
     "output_type": "execute_result"
    }
   ],
   "source": [
    "company_location_info.text"
   ]
  },
  {
   "cell_type": "code",
   "execution_count": 8,
   "metadata": {},
   "outputs": [],
   "source": [
    "job_info = {}\n",
    "hh_9000.add_info_if_exists(job_info, 'salary', job_short, \"(.//li[@class='jobs-unified-top-card__job-insight'])[1]\")\n",
    "hh_9000.add_info_if_exists(job_info, 'numemployees', job_short, \"(.//li[@class='jobs-unified-top-card__job-insight'])[2]\")\n",
    "hh_9000.add_info_if_exists(job_info, 'location', company_location_info, \"./div\")\n",
    "hh_9000.add_info_if_exists(job_info, 'workplacetype', company_location_info, \"./div\")"
   ]
  },
  {
   "cell_type": "code",
   "execution_count": 9,
   "metadata": {},
   "outputs": [
    {
     "data": {
      "text/plain": [
       "{'salary': 'Full-time',\n",
       " 'numemployees': '1-10 employees',\n",
       " 'location': 'Dirac, Inc. · New York City Metropolitan Area (Hybrid)  3 weeks ago  · 280 applicants',\n",
       " 'workplacetype': 'Dirac, Inc. · New York City Metropolitan Area (Hybrid)  3 weeks ago  · 280 applicants'}"
      ]
     },
     "execution_count": 9,
     "metadata": {},
     "output_type": "execute_result"
    }
   ],
   "source": [
    "job_info"
   ]
  },
  {
   "cell_type": "code",
   "execution_count": 14,
   "metadata": {},
   "outputs": [],
   "source": [
    "def parse_job_string(job_string):\n",
    "    pattern = r'^(.*?) · (.*?) \\((.*?)\\) +(\\d+ (day|week|month)s? ago) +· +(\\d+(?:,\\d+)? applicants)$'\n",
    "    match = re.match(pattern, job_string)\n",
    "\n",
    "    if match:\n",
    "        company_name = match.group(1)\n",
    "        location = match.group(2)\n",
    "        workplace_type = match.group(3)\n",
    "        posted_time_ago = match.group(4)\n",
    "        num_applicants = match.group(6).replace(',', '')\n",
    "\n",
    "        job_attributes = {\n",
    "            \"company_name\": company_name,\n",
    "            \"location\": location,\n",
    "            \"workplace_type\": workplace_type,\n",
    "            \"posted_time_ago\": posted_time_ago,\n",
    "            \"num_applicants\": num_applicants\n",
    "        }\n",
    "        return job_attributes\n",
    "    else:\n",
    "        return None\n",
    "    \n",
    "job_attr_from_string = parse_job_string(\"Heartland America · Chaska, MN (Hybrid)  1 day ago  · 378 applicants\")"
   ]
  },
  {
   "cell_type": "code",
   "execution_count": 15,
   "metadata": {},
   "outputs": [
    {
     "data": {
      "text/plain": [
       "{'company_name': 'Heartland America',\n",
       " 'location': 'Chaska, MN',\n",
       " 'workplace_type': 'Hybrid',\n",
       " 'posted_time_ago': '1 day ago',\n",
       " 'num_applicants': '378 applicants'}"
      ]
     },
     "execution_count": 15,
     "metadata": {},
     "output_type": "execute_result"
    }
   ],
   "source": [
    "job_attr_from_string"
   ]
  },
  {
   "cell_type": "code",
   "execution_count": 20,
   "metadata": {},
   "outputs": [],
   "source": [
    "job_dict = {}\n",
    "job_dict.update(job_attr_from_string)"
   ]
  },
  {
   "cell_type": "code",
   "execution_count": 21,
   "metadata": {},
   "outputs": [
    {
     "data": {
      "text/plain": [
       "{'company_name': 'Dirac, Inc.',\n",
       " 'location': 'New York City Metropolitan Area',\n",
       " 'workplace_type': 'Hybrid',\n",
       " 'posted_time_ago': '3 weeks',\n",
       " 'num_applicants': '280 applicants'}"
      ]
     },
     "execution_count": 21,
     "metadata": {},
     "output_type": "execute_result"
    }
   ],
   "source": [
    "job_dict"
   ]
  },
  {
   "cell_type": "code",
   "execution_count": 4,
   "metadata": {},
   "outputs": [],
   "source": [
    "time.sleep(random.uniform(1,2))\n",
    "hh_9000.scroll_through_sidebar()\n",
    "job_listings = hh_9000.driver.find_elements_by_xpath(\"//div[contains(@class, 'job-card-container') and contains(@class, 'job-card-list')]\")"
   ]
  },
  {
   "cell_type": "code",
   "execution_count": 14,
   "metadata": {},
   "outputs": [],
   "source": [
    "from selenium.common.exceptions import NoSuchElementException"
   ]
  },
  {
   "cell_type": "code",
   "execution_count": 17,
   "metadata": {},
   "outputs": [],
   "source": [
    "def loop_through_questions(hh_9000, job_id):\n",
    "    job_info_container = hh_9000.driver.find_element_by_xpath(\"//div[@class='job-view-layout jobs-details']\")\n",
    "    job_short = job_info_container.find_element_by_xpath(\".//div[@class='jobs-unified-top-card__content--two-pane']\")\n",
    "    job_short.find_element_by_xpath(\".//button[contains(@class, 'jobs-apply-button')]\").click() # click easy apply\n",
    "    # Loop through questions  //button[@data-easy-apply-next-button]\n",
    "    more_questions = True\n",
    "    while(more_questions):\n",
    "        dd_and_fr_question_forms = hh_9000.driver.find_elements_by_xpath(\"//div[@class='jobs-easy-apply-content']//div[@class='jobs-easy-apply-form-section__grouping']/div[contains(@class, 'jobs-easy-apply-form-element')]\")\n",
    "        rb_question_forms = hh_9000.driver.find_elements_by_xpath(\"//div[@class='jobs-easy-apply-content']//div[@class='jobs-easy-apply-form-section__grouping']/fieldset\")\n",
    "\n",
    "        for q_form in dd_and_fr_question_forms: # dropdown: fb-dropdown    ---   free-response: fb-single-line-text\n",
    "            question_text = q_form.find_element_by_xpath(\"./label/span[not(@class='visually-hidden')]\").text\n",
    "            question_type = q_form.find_element_by_xpath(\"./div\").get_attribute(\"class\")\n",
    "\n",
    "            # //div[@class='jobs-easy-apply-content']//div[@class='jobs-easy-apply-form-section__grouping']/div[contains(@class, 'jobs-easy-apply-form-element')]/div/select/option\n",
    "            if question_type == \"fb-dropdown\":\n",
    "                \n",
    "                options = q_form.find_elements_by_xpath(\"./div/select/option\")\n",
    "                option_vals = [option.get_attribute(\"value\") for option in options]\n",
    "\n",
    "                option_sets = hh_9000.litehelper.get_from_table(\"Questions q INNER JOIN DropDownQuestions d on q.QuestionID = d.DropDownQuestionID\", ['OptionSetID'], {\"Question\": question_text})\n",
    "                if option_sets: # question has already been added\n",
    "                    for option_set in option_sets:\n",
    "                        db_options = hh_9000.litehelper.get_from_table(\"Options\", ['OptionText', 'Value'], {\"OptionSetID\": option_set})\n",
    "                        db_option_texts = set()\n",
    "                        if all([option_text in db_option_texts for option_text in option_texts]) and all([option_val in db_option_vals for option_val in option_vals]):\n",
    "                            q_id = hh_9000.litehelper.get_from_table(\"DropDownQuestions\", ['DropDownQuestionID'], {\"OptionSet\": option_set})\n",
    "                            hh_9000.litehelper.insert_job_question(**{'JobID': job_id, 'QuestionID': q_id})\n",
    "                            break\n",
    "                    \n",
    "                        \n",
    "                    \n",
    "\n",
    "                # if question is in db\n",
    "                    # store all option_sets in a list of sets\n",
    "                    # then for each set check if all options in the UI are in that set\n",
    "                    # if ALL options are in that set, then this is the correct set and we just need to store reference to the OptionSetID\n",
    "                    # else we need to add the same question to the db - this time with the new option set\n",
    "                # else we need to add it to the db along with all the options\n",
    "                \n",
    "                \n",
    "\n",
    "            print(question_text, question_type)\n",
    "\n",
    "        for q_form in rb_question_forms:\n",
    "            question_text = q_form.find_element_by_xpath(\"./legend/span[not(@class='visually-hidden')]\").text\n",
    "            options = q_form.find_element_by_xpath(\"./div[@class='fb-radio-buttons']\")\n",
    "            print(question_text)\n",
    "\n",
    "        next_q_button = find_element_by_xpath_safe(hh_9000.driver, \"//button[@data-easy-apply-next-button]\")\n",
    "        if next_q_button:\n",
    "            next_q_button.click()\n",
    "        else:\n",
    "            more_questions = False\n",
    "\n",
    "def find_element_by_xpath_safe(element, xpath_from_element):\n",
    "    try:\n",
    "        return element.find_element_by_xpath(xpath_from_element)\n",
    "    except NoSuchElementException:\n",
    "        return None"
   ]
  },
  {
   "cell_type": "code",
   "execution_count": 18,
   "metadata": {},
   "outputs": [
    {
     "name": "stdout",
     "output_type": "stream",
     "text": [
      "Email address fb-dropdown\n",
      "Phone country code fb-dropdown\n",
      "Mobile phone number fb-single-line-text\n",
      "How many years of work experience do you have using Tableau? fb-single-line-text\n",
      "How many years of work experience do you have using Python (Programming Language)? fb-single-line-text\n",
      "Have you completed the following level of education: Bachelor's Degree?\n",
      "Are you legally authorized to work in the United States?\n"
     ]
    }
   ],
   "source": [
    "for i in range(len(job_listings)):\n",
    "    just_added = False\n",
    "    time.sleep(random.uniform(1,2))\n",
    "    link = job_listings[i].find_element_by_xpath(\".//a[contains(@class, 'job-card-container__link') and contains(@class, 'job-card-list__title')]\")\n",
    "    link.click()\n",
    "    ext_job_id = job_listings[i].get_attribute(\"data-job-id\")\n",
    "    if not hh_9000.litehelper.is_in_table('Jobs', **{'JobBoardID':'linkedin', 'ExtJobID': ext_job_id}):\n",
    "        job_info = hh_9000.build_job_info(ext_job_id)\n",
    "        hh_9000.litehelper.insert_job(**job_info)\n",
    "        just_added = True\n",
    "\n",
    "    if just_added or hh_9000.litehelper.is_in_table('Jobs', **{'JobBoardID':'linkedin', 'ExtJobID': ext_job_id, 'AppSubmitted': 0}):\n",
    "        loop_through_questions(hh_9000)\n",
    "        break\n",
    "\n",
    "            # If all Questions for Job already have Answers\n",
    "\n",
    "            # Else if there are not yet any Questions"
   ]
  },
  {
   "attachments": {},
   "cell_type": "markdown",
   "metadata": {},
   "source": [
    "### Old"
   ]
  },
  {
   "cell_type": "code",
   "execution_count": 5,
   "metadata": {},
   "outputs": [],
   "source": [
    "job_listings = hh_9000.driver.find_elements_by_xpath(\"//div[contains(@class, 'job-card-container') and contains(@class, 'job-card-list')]\")"
   ]
  },
  {
   "cell_type": "code",
   "execution_count": 8,
   "metadata": {},
   "outputs": [],
   "source": [
    "job_info_container = hh_9000.driver.find_element_by_xpath(\"//div[@class='job-view-layout jobs-details']\")\n",
    "job_short = job_info_container.find_element_by_xpath(\".//div[@class='jobs-unified-top-card__content--two-pane']\")\n",
    "easy_apply = job_short.find_element_by_xpath(\".//button[contains(@class, 'jobs-apply-button')]\").click()"
   ]
  },
  {
   "cell_type": "code",
   "execution_count": 25,
   "metadata": {},
   "outputs": [],
   "source": [
    "dd_and_fr_question_forms = hh_9000.driver.find_elements_by_xpath(\"//div[@class='jobs-easy-apply-content']//div[@class='jobs-easy-apply-form-section__grouping']/div[contains(@class, 'jobs-easy-apply-form-element')]\")\n",
    "rb_question_forms = hh_9000.driver.find_elements_by_xpath(\"//div[@class='jobs-easy-apply-content']//div[@class='jobs-easy-apply-form-section__grouping']/fieldset\")"
   ]
  },
  {
   "cell_type": "code",
   "execution_count": 26,
   "metadata": {},
   "outputs": [],
   "source": [
    "for q_form in dd_and_fr_question_forms:\n",
    "    question_text = q_form.find_element_by_xpath(\"./label/span[not(@class='visually-hidden')]\").text\n",
    "    question_type = q_form.find_element_by_xpath(\"./div\").get_attribute(\"class\")\n",
    "    print(question_text, question_type)"
   ]
  },
  {
   "cell_type": "code",
   "execution_count": 27,
   "metadata": {},
   "outputs": [
    {
     "name": "stdout",
     "output_type": "stream",
     "text": [
      "Are you comfortable commuting to this job's location?\n"
     ]
    }
   ],
   "source": [
    "for q_form in rb_question_forms:\n",
    "    question_text = q_form.find_element_by_xpath(\"./legend/span[not(@class='visually-hidden')]\")\n",
    "    options = q_form.find_element_by_xpath(\"./div[@class='fb-radio-buttons']\")\n",
    "    print(question_text)"
   ]
  },
  {
   "cell_type": "code",
   "execution_count": null,
   "metadata": {},
   "outputs": [],
   "source": []
  }
 ],
 "metadata": {
  "interpreter": {
   "hash": "8e78e047b32366f522c98bda6a2dbe72ffea23751f9e8ea03f39107f7c32989a"
  },
  "kernelspec": {
   "display_name": "Python 3.7.13 ('Head_Hunter_9000')",
   "language": "python",
   "name": "python3"
  },
  "language_info": {
   "codemirror_mode": {
    "name": "ipython",
    "version": 3
   },
   "file_extension": ".py",
   "mimetype": "text/x-python",
   "name": "python",
   "nbconvert_exporter": "python",
   "pygments_lexer": "ipython3",
   "version": "3.10.11"
  },
  "orig_nbformat": 4
 },
 "nbformat": 4,
 "nbformat_minor": 2
}
