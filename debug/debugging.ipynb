{
 "cells": [
  {
   "cell_type": "code",
   "execution_count": 1,
   "metadata": {},
   "outputs": [
    {
     "name": "stdout",
     "output_type": "stream",
     "text": [
      "2023-07-27 20:57:38,872 INFO sqlalchemy.engine.Engine BEGIN (implicit)\n",
      "2023-07-27 20:57:38,873 INFO sqlalchemy.engine.Engine PRAGMA main.table_info(\"jobboard\")\n",
      "2023-07-27 20:57:38,874 INFO sqlalchemy.engine.Engine [raw sql] ()\n",
      "2023-07-27 20:57:38,875 INFO sqlalchemy.engine.Engine PRAGMA main.table_info(\"jobquestion\")\n",
      "2023-07-27 20:57:38,875 INFO sqlalchemy.engine.Engine [raw sql] ()\n",
      "2023-07-27 20:57:38,876 INFO sqlalchemy.engine.Engine PRAGMA main.table_info(\"optionset\")\n",
      "2023-07-27 20:57:38,876 INFO sqlalchemy.engine.Engine [raw sql] ()\n",
      "2023-07-27 20:57:38,877 INFO sqlalchemy.engine.Engine PRAGMA main.table_info(\"job\")\n",
      "2023-07-27 20:57:38,877 INFO sqlalchemy.engine.Engine [raw sql] ()\n",
      "2023-07-27 20:57:38,878 INFO sqlalchemy.engine.Engine PRAGMA main.table_info(\"question\")\n",
      "2023-07-27 20:57:38,878 INFO sqlalchemy.engine.Engine [raw sql] ()\n",
      "2023-07-27 20:57:38,879 INFO sqlalchemy.engine.Engine PRAGMA main.table_info(\"freeresponsequestion\")\n",
      "2023-07-27 20:57:38,879 INFO sqlalchemy.engine.Engine [raw sql] ()\n",
      "2023-07-27 20:57:38,880 INFO sqlalchemy.engine.Engine PRAGMA main.table_info(\"radiobuttonquestion\")\n",
      "2023-07-27 20:57:38,880 INFO sqlalchemy.engine.Engine [raw sql] ()\n",
      "2023-07-27 20:57:38,881 INFO sqlalchemy.engine.Engine PRAGMA main.table_info(\"dropdownquestion\")\n",
      "2023-07-27 20:57:38,881 INFO sqlalchemy.engine.Engine [raw sql] ()\n",
      "2023-07-27 20:57:38,882 INFO sqlalchemy.engine.Engine PRAGMA main.table_info(\"option\")\n",
      "2023-07-27 20:57:38,882 INFO sqlalchemy.engine.Engine [raw sql] ()\n",
      "2023-07-27 20:57:38,883 INFO sqlalchemy.engine.Engine COMMIT\n"
     ]
    }
   ],
   "source": [
    "import sys, os\n",
    "\n",
    "sys.path.insert(0, \"../src\")\n",
    "from linkedin import Head_Hunter_9000"
   ]
  },
  {
   "cell_type": "code",
   "execution_count": 2,
   "metadata": {},
   "outputs": [],
   "source": [
    "from selenium import webdriver\n",
    "from selenium.webdriver.common.by import By\n",
    "from webdriver_manager.chrome import ChromeDriverManager\n",
    "from selenium.webdriver.common.keys import Keys\n",
    "from selenium.webdriver import ChromeOptions\n",
    "import html2text\n",
    "from selenium.common.exceptions import NoSuchElementException\n",
    "import urllib.parse\n",
    "import configparser\n",
    "import random\n",
    "import time\n",
    "\n",
    "import re\n",
    "from data.architecture import JobBoard, Job, FreeResponseQuestion, RadioButtonsQuestion, DropDownQuestion, Option\n",
    "\n"
   ]
  },
  {
   "cell_type": "code",
   "execution_count": 3,
   "metadata": {},
   "outputs": [
    {
     "name": "stdout",
     "output_type": "stream",
     "text": [
      "https://www.linkedin.com/jobs/search/?f_AL=true&f_E=1%2C2%2C3&f_JT=F%2CC%2CT&f_WT=1%2C2%2C3&keywords=Data%20Analyst&location=United%20States\n"
     ]
    },
    {
     "name": "stderr",
     "output_type": "stream",
     "text": [
      "[WDM] - Downloading: 100%|██████████| 6.98M/6.98M [00:00<00:00, 34.8MB/s]\n"
     ]
    }
   ],
   "source": [
    "hh_9000 = Head_Hunter_9000('/home/luca/Documents/Projects/Head_Hunter_9000/config.ini')\n",
    "hh_9000.login()"
   ]
  },
  {
   "cell_type": "code",
   "execution_count": 4,
   "metadata": {},
   "outputs": [],
   "source": [
    "ext_job_id = hh_9000.get_job_id(hh_9000.driver.current_url)\n",
    "job_info_container = hh_9000.driver.find_element(By.XPATH, \"//div[@class='job-view-layout jobs-details']\")\n",
    "job_info = hh_9000.build_job_info(job_info_container, ext_job_id)"
   ]
  },
  {
   "cell_type": "code",
   "execution_count": 5,
   "metadata": {},
   "outputs": [
    {
     "data": {
      "text/plain": [
       "{'companyname': 'SmartHire Inc.',\n",
       " 'location': 'Greater Chicago Area',\n",
       " 'workplacetype': 'Hybrid',\n",
       " 'postedtimeago': '4 weeks ago',\n",
       " 'numapplicants': '649 applicants',\n",
       " 'salary': 'Full-time · Associate',\n",
       " 'numemployees': '1-10 employees · Staffing and Recruiting',\n",
       " 'jobtitle': 'Data Analyst',\n",
       " 'description': '**Position Title: Data Analyst**\\n\\n  \\n\\nA family office and their charitable and investment entities are searching for\\na talented Data Analyst or Data Scientist to join their growing team. This is\\na hybrid role located in Skokie.\\n\\n  \\n\\n**Position Summary**\\n\\nWe are seeking a highly skilled and detail-oriented Data Analyst to join our\\norganization. The ideal candidate will be responsible for designing, creating,\\nand implementing computer systems and programs, analyzing complex data sets,\\nidentifying trends and patterns, and presenting findings to inform strategic\\ndecision-making for the organizations. The Data Analyst will also use judgment\\nand discretion regarding significant matters including identification of areas\\nof concern, success, and growth opportunity for each of the Entities based on\\ndata analysis, and will work independently as well as collaborate with\\nleadership and team members to measure the impact of the Entities’ giving and\\ninvestments and develop strategies for the future.\\n\\n  \\n\\n **Key Responsibilities:**\\n\\n  * Conduct analysis of data for each of the Entities to identify trends, patterns, and insights to support the analytical needs of the leadership teams.\\n  * Design, develop, document, analyze, create, test, streamline, modify, and implement efficient and effective computer programs and systems for data collection, entry, and analysis tools and systems in accordance with Entities’ different and evolving needs.\\n  * Develop easy-to-use and understandable dashboards and visualizations to communicate findings to various stakeholders.\\n  * Develop and publish accurate statistical and narrative reports with appropriate levels of detail (based on audience, purpose, etc.) from various databases and systems using Excel and other necessary software programs.\\n  * Respond to and provide data for internal and external audits, reports, and surveys.\\n  * Identify areas of concern and present proposed solutions to leadership and other stakeholders within the Entities.\\n  * Collaborate with leadership and team members from each of the Entities to identify relevant data points for tracking and to collect such data efficiently and with minimal disruption to operations.\\n  * Create, recommend, and support the development and growth of new and existing measurement frameworks for investments, programs, and grants.\\n  * Develop and maintain databases to store and manage each entity’s data in a manner that maintains appropriate security levels and confidentiality for sensitive data.\\n  * Populate systems with data and conduct regular data quality checks to ensure accuracy and completeness of data.\\n  * Develop and maintain documentation and standard operating procedures for data management, analysis, and retention.\\n  * Stay up to date with emerging trends and best practices in data analysis and management generally and with regard specifically to Entities’ respective missions and goals.\\n\\n  \\n\\n**Qualifications:**\\n\\n  * Bachelor’s degree in data science, Statistics, Mathematics, Computer Science or a related field or equivalent experience\\n  * 3+ years of experience in data analysis and applying analytical methods to business problems, driving improved decision-making and outcomes, preferably in the nonprofit or grantmaking sector\\n  * Experience with statistical analysis, research techniques, and survey and data visualization tools (e.g. R, Python, Tableau)\\n  * Knowledge of database management and SQL\\n  * Strong analytical skills and attention to detail\\n  * Excellent written and verbal communication skills\\n  * Ability to work collaboratively with cross-functional teams, and ability to take initiative and work independently with minimal supervision\\n  * Ability to quickly process information, facilitate meetings, and make decisions\\n  * Proven ability to handle confidential information with a high degree of discretion and good judgment\\n  * Excellent time management skills and demonstrated ability to meet deadlines\\n  * Proactive approach in identifying potential and actual problems and issues and resolving them\\n  * Ability to multitask and reprioritize as needed\\n  * Up to date on industry trends\\n\\n  \\n\\n**Compensation & Benefits:**\\n\\n  * The organization offers competitive compensation, comprehensive benefits, and an opportunity to work with a talented and driven team in a fast-paced, dynamic industry. If you have the passion, knowledge, and skills to excel in this role, we invite you to apply.\\n\\n',\n",
       " 'jobboardid': 'linkedin',\n",
       " 'appsubmitted': False,\n",
       " 'extjobid': '3643882639'}"
      ]
     },
     "execution_count": 5,
     "metadata": {},
     "output_type": "execute_result"
    }
   ],
   "source": [
    "job_info"
   ]
  },
  {
   "cell_type": "code",
   "execution_count": 6,
   "metadata": {},
   "outputs": [],
   "source": [
    "easy_apply_button = job_info_container.find_element(By.XPATH, \"//button[contains(@class, 'jobs-apply-button')]\")\n",
    "easy_apply_button.click()"
   ]
  },
  {
   "cell_type": "code",
   "execution_count": 28,
   "metadata": {},
   "outputs": [],
   "source": [
    "question_form = hh_9000.driver.find_element(By.XPATH, \"//div[@class='pb4']\")\n",
    "freeresponse_question_containers = question_form.find_elements(By.XPATH, \"./div[contains(@class, 'jobs-easy-apply-form-section__grouping')]//div[@data-test-single-line-text-form-component]\")\n",
    "dropdown_question_containers = question_form.find_elements(By.XPATH, \"./div[contains(@class, 'jobs-easy-apply-form-section__grouping')]//div[@data-test-text-entity-list-form-component]\")\n",
    "radiobutton_question_containers = question_form.find_elements(By.XPATH, \"./div[contains(@class, 'jobs-easy-apply-form-section__grouping')]//fieldset[@data-test-form-builder-radio-button-form-component]\")"
   ]
  },
  {
   "cell_type": "code",
   "execution_count": 31,
   "metadata": {},
   "outputs": [
    {
     "name": "stdout",
     "output_type": "stream",
     "text": [
      "Are you legally authorized to work in the United States?\n"
     ]
    }
   ],
   "source": [
    "for rb_q_c in radiobutton_question_containers:\n",
    "    question_prompt = rb_q_c.find_element(By.XPATH, \"//span[@data-test-form-builder-radio-button-form-component__title]/span[@aria-hidden='true']\").text\n",
    "    print(question_prompt)\n",
    "\n",
    "    input_containers = rb_q_c.find_elements(By.TAG_NAME, \"div\")\n",
    "\n",
    "    # List to store the dictionaries\n",
    "    option_list = []\n",
    "\n",
    "    for input_container in input_containers:\n",
    "        input = input_container.find_element(By.TAG_NAME, \"input\")\n",
    "        value = input.get_attribute('value')\n",
    "\n",
    "        inner_text = input_container.find_element(By.TAG_NAME, \"label\").text\n",
    "\n",
    "        option_dict = {\n",
    "            \"text\": inner_text,\n",
    "            \"value\": value\n",
    "        }\n",
    "        option_list.append(option_dict)"
   ]
  },
  {
   "cell_type": "code",
   "execution_count": 32,
   "metadata": {},
   "outputs": [
    {
     "data": {
      "text/plain": [
       "[{'text': 'Yes', 'value': 'penis'}, {'text': 'No', 'value': 'No'}]"
      ]
     },
     "execution_count": 32,
     "metadata": {},
     "output_type": "execute_result"
    }
   ],
   "source": [
    "option_list"
   ]
  },
  {
   "cell_type": "code",
   "execution_count": 26,
   "metadata": {},
   "outputs": [
    {
     "name": "stdout",
     "output_type": "stream",
     "text": [
      "This is an in-person role in Horizon's Charlotte, NC office. If you don't currently live in the Charlotte area, are you open to relocating?\n",
      "[{'text': 'Select an option', 'value': 'Select an option'}, {'text': 'Yes', 'value': 'Yes'}, {'text': 'No', 'value': 'No'}]\n"
     ]
    }
   ],
   "source": [
    "for dd_q_c in dropdown_question_containers:\n",
    "    question_prompt = dd_q_c.find_element(By.XPATH, \"./label/span[@aria-hidden='true']\").text\n",
    "\n",
    "    select = dd_q_c.find_element(By.TAG_NAME, \"select\")\n",
    "    options = select.find_elements(By.TAG_NAME, \"option\")\n",
    "\n",
    "    # List to store the dictionaries\n",
    "    option_list = []\n",
    "\n",
    "    # Loop through the \"option\" elements and extract inner text and value\n",
    "    for option in options:\n",
    "        inner_text = option.text\n",
    "        value = option.get_attribute(\"value\")\n",
    "\n",
    "        # Create a dictionary for each \"option\" element and add it to the list\n",
    "        option_dict = {\n",
    "            \"text\": inner_text,\n",
    "            \"value\": value\n",
    "        }\n",
    "        option_list.append(option_dict)\n",
    "\n",
    "    # Print the list of dictionaries\n",
    "    print(question_prompt)\n",
    "    print(option_list)"
   ]
  },
  {
   "cell_type": "code",
   "execution_count": 27,
   "metadata": {},
   "outputs": [],
   "source": [
    "next_btn = hh_9000.driver.find_element(By.XPATH, \"//span[text()='Next']/ancestor::button\")\n",
    "next_btn.click()"
   ]
  },
  {
   "cell_type": "code",
   "execution_count": 8,
   "metadata": {},
   "outputs": [],
   "source": [
    "job_info_container = hh_9000.driver.find_element(By.XPATH, \"//div[@class='job-view-layout jobs-details']\")"
   ]
  },
  {
   "cell_type": "code",
   "execution_count": 9,
   "metadata": {},
   "outputs": [],
   "source": [
    "job_short = job_info_container.find_element(By.XPATH, \".//div[@class='jobs-unified-top-card__content--two-pane']\")\n",
    "company_location_info = job_short.find_element(By.XPATH, \"./div[@class='jobs-unified-top-card__primary-description']\")"
   ]
  },
  {
   "cell_type": "code",
   "execution_count": 10,
   "metadata": {},
   "outputs": [
    {
     "data": {
      "text/plain": [
       "'Heartland America · Chaska, MN (Hybrid)  1 day ago  · 378 applicants'"
      ]
     },
     "execution_count": 10,
     "metadata": {},
     "output_type": "execute_result"
    }
   ],
   "source": [
    "company_location_info.text"
   ]
  },
  {
   "cell_type": "code",
   "execution_count": 8,
   "metadata": {},
   "outputs": [],
   "source": [
    "job_info = {}\n",
    "hh_9000.add_info_if_exists(job_info, 'salary', job_short, \"(.//li[@class='jobs-unified-top-card__job-insight'])[1]\")\n",
    "hh_9000.add_info_if_exists(job_info, 'numemployees', job_short, \"(.//li[@class='jobs-unified-top-card__job-insight'])[2]\")\n",
    "hh_9000.add_info_if_exists(job_info, 'location', company_location_info, \"./div\")\n",
    "hh_9000.add_info_if_exists(job_info, 'workplacetype', company_location_info, \"./div\")"
   ]
  },
  {
   "cell_type": "code",
   "execution_count": 9,
   "metadata": {},
   "outputs": [
    {
     "data": {
      "text/plain": [
       "{'salary': 'Full-time',\n",
       " 'numemployees': '1-10 employees',\n",
       " 'location': 'Dirac, Inc. · New York City Metropolitan Area (Hybrid)  3 weeks ago  · 280 applicants',\n",
       " 'workplacetype': 'Dirac, Inc. · New York City Metropolitan Area (Hybrid)  3 weeks ago  · 280 applicants'}"
      ]
     },
     "execution_count": 9,
     "metadata": {},
     "output_type": "execute_result"
    }
   ],
   "source": [
    "job_info"
   ]
  },
  {
   "cell_type": "code",
   "execution_count": 14,
   "metadata": {},
   "outputs": [],
   "source": [
    "def parse_job_string(job_string):\n",
    "    pattern = r'^(.*?) · (.*?) \\((.*?)\\) +(\\d+ (day|week|month)s? ago) +· +(\\d+(?:,\\d+)? applicants)$'\n",
    "    match = re.match(pattern, job_string)\n",
    "\n",
    "    if match:\n",
    "        company_name = match.group(1)\n",
    "        location = match.group(2)\n",
    "        workplace_type = match.group(3)\n",
    "        posted_time_ago = match.group(4)\n",
    "        num_applicants = match.group(6).replace(',', '')\n",
    "\n",
    "        job_attributes = {\n",
    "            \"company_name\": company_name,\n",
    "            \"location\": location,\n",
    "            \"workplace_type\": workplace_type,\n",
    "            \"posted_time_ago\": posted_time_ago,\n",
    "            \"num_applicants\": num_applicants\n",
    "        }\n",
    "        return job_attributes\n",
    "    else:\n",
    "        return None\n",
    "    \n",
    "job_attr_from_string = parse_job_string(\"Heartland America · Chaska, MN (Hybrid)  1 day ago  · 378 applicants\")"
   ]
  },
  {
   "cell_type": "code",
   "execution_count": 15,
   "metadata": {},
   "outputs": [
    {
     "data": {
      "text/plain": [
       "{'company_name': 'Heartland America',\n",
       " 'location': 'Chaska, MN',\n",
       " 'workplace_type': 'Hybrid',\n",
       " 'posted_time_ago': '1 day ago',\n",
       " 'num_applicants': '378 applicants'}"
      ]
     },
     "execution_count": 15,
     "metadata": {},
     "output_type": "execute_result"
    }
   ],
   "source": [
    "job_attr_from_string"
   ]
  },
  {
   "cell_type": "code",
   "execution_count": 20,
   "metadata": {},
   "outputs": [],
   "source": [
    "job_dict = {}\n",
    "job_dict.update(job_attr_from_string)"
   ]
  },
  {
   "cell_type": "code",
   "execution_count": 21,
   "metadata": {},
   "outputs": [
    {
     "data": {
      "text/plain": [
       "{'company_name': 'Dirac, Inc.',\n",
       " 'location': 'New York City Metropolitan Area',\n",
       " 'workplace_type': 'Hybrid',\n",
       " 'posted_time_ago': '3 weeks',\n",
       " 'num_applicants': '280 applicants'}"
      ]
     },
     "execution_count": 21,
     "metadata": {},
     "output_type": "execute_result"
    }
   ],
   "source": [
    "job_dict"
   ]
  },
  {
   "cell_type": "code",
   "execution_count": 4,
   "metadata": {},
   "outputs": [],
   "source": [
    "time.sleep(random.uniform(1,2))\n",
    "hh_9000.scroll_through_sidebar()\n",
    "job_listings = hh_9000.driver.find_elements_by_xpath(\"//div[contains(@class, 'job-card-container') and contains(@class, 'job-card-list')]\")"
   ]
  },
  {
   "cell_type": "code",
   "execution_count": 14,
   "metadata": {},
   "outputs": [],
   "source": [
    "from selenium.common.exceptions import NoSuchElementException"
   ]
  },
  {
   "cell_type": "code",
   "execution_count": 17,
   "metadata": {},
   "outputs": [],
   "source": [
    "def loop_through_questions(hh_9000, job_id):\n",
    "    job_info_container = hh_9000.driver.find_element_by_xpath(\"//div[@class='job-view-layout jobs-details']\")\n",
    "    job_short = job_info_container.find_element_by_xpath(\".//div[@class='jobs-unified-top-card__content--two-pane']\")\n",
    "    job_short.find_element_by_xpath(\".//button[contains(@class, 'jobs-apply-button')]\").click() # click easy apply\n",
    "    # Loop through questions  //button[@data-easy-apply-next-button]\n",
    "    more_questions = True\n",
    "    while(more_questions):\n",
    "        dd_and_fr_question_forms = hh_9000.driver.find_elements_by_xpath(\"//div[@class='jobs-easy-apply-content']//div[@class='jobs-easy-apply-form-section__grouping']/div[contains(@class, 'jobs-easy-apply-form-element')]\")\n",
    "        rb_question_forms = hh_9000.driver.find_elements_by_xpath(\"//div[@class='jobs-easy-apply-content']//div[@class='jobs-easy-apply-form-section__grouping']/fieldset\")\n",
    "\n",
    "        for q_form in dd_and_fr_question_forms: # dropdown: fb-dropdown    ---   free-response: fb-single-line-text\n",
    "            question_text = q_form.find_element_by_xpath(\"./label/span[not(@class='visually-hidden')]\").text\n",
    "            question_type = q_form.find_element_by_xpath(\"./div\").get_attribute(\"class\")\n",
    "\n",
    "            # //div[@class='jobs-easy-apply-content']//div[@class='jobs-easy-apply-form-section__grouping']/div[contains(@class, 'jobs-easy-apply-form-element')]/div/select/option\n",
    "            if question_type == \"fb-dropdown\":\n",
    "                \n",
    "                options = q_form.find_elements_by_xpath(\"./div/select/option\")\n",
    "                option_vals = [option.get_attribute(\"value\") for option in options]\n",
    "\n",
    "                option_sets = hh_9000.litehelper.get_from_table(\"Questions q INNER JOIN DropDownQuestions d on q.QuestionID = d.DropDownQuestionID\", ['OptionSetID'], {\"Question\": question_text})\n",
    "                if option_sets: # question has already been added\n",
    "                    for option_set in option_sets:\n",
    "                        db_options = hh_9000.litehelper.get_from_table(\"Options\", ['OptionText', 'Value'], {\"OptionSetID\": option_set})\n",
    "                        db_option_texts = set()\n",
    "                        if all([option_text in db_option_texts for option_text in option_texts]) and all([option_val in db_option_vals for option_val in option_vals]):\n",
    "                            q_id = hh_9000.litehelper.get_from_table(\"DropDownQuestions\", ['DropDownQuestionID'], {\"OptionSet\": option_set})\n",
    "                            hh_9000.litehelper.insert_job_question(**{'JobID': job_id, 'QuestionID': q_id})\n",
    "                            break\n",
    "                    \n",
    "                        \n",
    "                    \n",
    "\n",
    "                # if question is in db\n",
    "                    # store all option_sets in a list of sets\n",
    "                    # then for each set check if all options in the UI are in that set\n",
    "                    # if ALL options are in that set, then this is the correct set and we just need to store reference to the OptionSetID\n",
    "                    # else we need to add the same question to the db - this time with the new option set\n",
    "                # else we need to add it to the db along with all the options\n",
    "                \n",
    "                \n",
    "\n",
    "            print(question_text, question_type)\n",
    "\n",
    "        for q_form in rb_question_forms:\n",
    "            question_text = q_form.find_element_by_xpath(\"./legend/span[not(@class='visually-hidden')]\").text\n",
    "            options = q_form.find_element_by_xpath(\"./div[@class='fb-radio-buttons']\")\n",
    "            print(question_text)\n",
    "\n",
    "        next_q_button = find_element_by_xpath_safe(hh_9000.driver, \"//button[@data-easy-apply-next-button]\")\n",
    "        if next_q_button:\n",
    "            next_q_button.click()\n",
    "        else:\n",
    "            more_questions = False\n",
    "\n",
    "def find_element_by_xpath_safe(element, xpath_from_element):\n",
    "    try:\n",
    "        return element.find_element_by_xpath(xpath_from_element)\n",
    "    except NoSuchElementException:\n",
    "        return None"
   ]
  },
  {
   "cell_type": "code",
   "execution_count": 18,
   "metadata": {},
   "outputs": [
    {
     "name": "stdout",
     "output_type": "stream",
     "text": [
      "Email address fb-dropdown\n",
      "Phone country code fb-dropdown\n",
      "Mobile phone number fb-single-line-text\n",
      "How many years of work experience do you have using Tableau? fb-single-line-text\n",
      "How many years of work experience do you have using Python (Programming Language)? fb-single-line-text\n",
      "Have you completed the following level of education: Bachelor's Degree?\n",
      "Are you legally authorized to work in the United States?\n"
     ]
    }
   ],
   "source": [
    "for i in range(len(job_listings)):\n",
    "    just_added = False\n",
    "    time.sleep(random.uniform(1,2))\n",
    "    link = job_listings[i].find_element_by_xpath(\".//a[contains(@class, 'job-card-container__link') and contains(@class, 'job-card-list__title')]\")\n",
    "    link.click()\n",
    "    ext_job_id = job_listings[i].get_attribute(\"data-job-id\")\n",
    "    if not hh_9000.litehelper.is_in_table('Jobs', **{'JobBoardID':'linkedin', 'ExtJobID': ext_job_id}):\n",
    "        job_info = hh_9000.build_job_info(ext_job_id)\n",
    "        hh_9000.litehelper.insert_job(**job_info)\n",
    "        just_added = True\n",
    "\n",
    "    if just_added or hh_9000.litehelper.is_in_table('Jobs', **{'JobBoardID':'linkedin', 'ExtJobID': ext_job_id, 'AppSubmitted': 0}):\n",
    "        loop_through_questions(hh_9000)\n",
    "        break\n",
    "\n",
    "            # If all Questions for Job already have Answers\n",
    "\n",
    "            # Else if there are not yet any Questions"
   ]
  },
  {
   "attachments": {},
   "cell_type": "markdown",
   "metadata": {},
   "source": [
    "### Old"
   ]
  },
  {
   "cell_type": "code",
   "execution_count": 5,
   "metadata": {},
   "outputs": [],
   "source": [
    "job_listings = hh_9000.driver.find_elements_by_xpath(\"//div[contains(@class, 'job-card-container') and contains(@class, 'job-card-list')]\")"
   ]
  },
  {
   "cell_type": "code",
   "execution_count": 8,
   "metadata": {},
   "outputs": [],
   "source": [
    "job_info_container = hh_9000.driver.find_element_by_xpath(\"//div[@class='job-view-layout jobs-details']\")\n",
    "job_short = job_info_container.find_element_by_xpath(\".//div[@class='jobs-unified-top-card__content--two-pane']\")\n",
    "easy_apply = job_short.find_element_by_xpath(\".//button[contains(@class, 'jobs-apply-button')]\").click()"
   ]
  },
  {
   "cell_type": "code",
   "execution_count": 25,
   "metadata": {},
   "outputs": [],
   "source": [
    "dd_and_fr_question_forms = hh_9000.driver.find_elements_by_xpath(\"//div[@class='jobs-easy-apply-content']//div[@class='jobs-easy-apply-form-section__grouping']/div[contains(@class, 'jobs-easy-apply-form-element')]\")\n",
    "rb_question_forms = hh_9000.driver.find_elements_by_xpath(\"//div[@class='jobs-easy-apply-content']//div[@class='jobs-easy-apply-form-section__grouping']/fieldset\")"
   ]
  },
  {
   "cell_type": "code",
   "execution_count": 26,
   "metadata": {},
   "outputs": [],
   "source": [
    "for q_form in dd_and_fr_question_forms:\n",
    "    question_text = q_form.find_element_by_xpath(\"./label/span[not(@class='visually-hidden')]\").text\n",
    "    question_type = q_form.find_element_by_xpath(\"./div\").get_attribute(\"class\")\n",
    "    print(question_text, question_type)"
   ]
  },
  {
   "cell_type": "code",
   "execution_count": 27,
   "metadata": {},
   "outputs": [
    {
     "name": "stdout",
     "output_type": "stream",
     "text": [
      "Are you comfortable commuting to this job's location?\n"
     ]
    }
   ],
   "source": [
    "for q_form in rb_question_forms:\n",
    "    question_text = q_form.find_element_by_xpath(\"./legend/span[not(@class='visually-hidden')]\")\n",
    "    options = q_form.find_element_by_xpath(\"./div[@class='fb-radio-buttons']\")\n",
    "    print(question_text)"
   ]
  },
  {
   "cell_type": "code",
   "execution_count": null,
   "metadata": {},
   "outputs": [],
   "source": []
  }
 ],
 "metadata": {
  "interpreter": {
   "hash": "8e78e047b32366f522c98bda6a2dbe72ffea23751f9e8ea03f39107f7c32989a"
  },
  "kernelspec": {
   "display_name": "Python 3.7.13 ('Head_Hunter_9000')",
   "language": "python",
   "name": "python3"
  },
  "language_info": {
   "codemirror_mode": {
    "name": "ipython",
    "version": 3
   },
   "file_extension": ".py",
   "mimetype": "text/x-python",
   "name": "python",
   "nbconvert_exporter": "python",
   "pygments_lexer": "ipython3",
   "version": "3.10.11"
  },
  "orig_nbformat": 4
 },
 "nbformat": 4,
 "nbformat_minor": 2
}
